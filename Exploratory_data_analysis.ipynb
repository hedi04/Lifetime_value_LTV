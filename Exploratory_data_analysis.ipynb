{
 "cells": [
  {
   "cell_type": "markdown",
   "metadata": {},
   "source": [
    "# Libraries to explore the data"
   ]
  },
  {
   "cell_type": "code",
   "execution_count": 173,
   "metadata": {
    "collapsed": true
   },
   "outputs": [],
   "source": [
    "import numpy as np\n",
    "import pandas as pd\n",
    "import matplotlib.pyplot as plt\n",
    "import math\n",
    "from datetime import timedelta\n",
    "import warnings\n",
    "warnings.filterwarnings(\"ignore\")\n",
    "import seaborn as sns\n",
    "\n",
    "import pylab \n",
    "pylab.rcParams['figure.figsize'] = 12, 8\n",
    "\n",
    "% matplotlib inline "
   ]
  },
  {
   "cell_type": "markdown",
   "metadata": {},
   "source": [
    "# Loading the three tables"
   ]
  },
  {
   "cell_type": "code",
   "execution_count": 200,
   "metadata": {
    "collapsed": true
   },
   "outputs": [],
   "source": [
    "driver_ids_df = pd.read_csv('/Users/Hedi/Documents/driver_ids.csv')\n",
    "ride_ids_df = pd.read_csv('/Users/Hedi/Documents/ride_ids.csv')\n",
    "ride_timestamp_df = pd.read_csv('/Users/Hedi/Documents/ride_timestamps.csv')"
   ]
  },
  {
   "cell_type": "code",
   "execution_count": 201,
   "metadata": {
    "collapsed": true
   },
   "outputs": [],
   "source": [
    "pd.set_option('display.max_rows', 5000)"
   ]
  },
  {
   "cell_type": "markdown",
   "metadata": {},
   "source": [
    "## -------------------------------------------------------------------------------------------"
   ]
  },
  {
   "cell_type": "markdown",
   "metadata": {},
   "source": [
    "# Table of content:\n",
    "# Part A:  Overview of the three tables\n",
    "# Part B: Joining the tables\n",
    "# Part C: Exploratory data analysis\n",
    "# Part D: Driver Value\n",
    "# Part E: Driver Lifetime"
   ]
  },
  {
   "cell_type": "markdown",
   "metadata": {},
   "source": [
    "## -------------------------------------------------------------------------------------------"
   ]
  },
  {
   "cell_type": "markdown",
   "metadata": {},
   "source": [
    "# Part A"
   ]
  },
  {
   "cell_type": "markdown",
   "metadata": {},
   "source": [
    "# Driver id Table"
   ]
  },
  {
   "cell_type": "markdown",
   "metadata": {},
   "source": [
    "### 1) General Informations about the Driver_id table\n",
    "### 2) Some Insights\n",
    "\n",
    "### -------------------------------------------------"
   ]
  },
  {
   "cell_type": "markdown",
   "metadata": {},
   "source": [
    "#### 1) General Informations"
   ]
  },
  {
   "cell_type": "code",
   "execution_count": 202,
   "metadata": {
    "collapsed": false
   },
   "outputs": [
    {
     "name": "stdout",
     "output_type": "stream",
     "text": [
      "<class 'pandas.core.frame.DataFrame'>\n",
      "RangeIndex: 937 entries, 0 to 936\n",
      "Data columns (total 2 columns):\n",
      "driver_id              937 non-null object\n",
      "driver_onboard_date    937 non-null object\n",
      "dtypes: object(2)\n",
      "memory usage: 14.7+ KB\n"
     ]
    }
   ],
   "source": [
    "driver_ids_df.info()"
   ]
  },
  {
   "cell_type": "code",
   "execution_count": 203,
   "metadata": {
    "collapsed": false
   },
   "outputs": [
    {
     "data": {
      "text/html": [
       "<div>\n",
       "<style>\n",
       "    .dataframe thead tr:only-child th {\n",
       "        text-align: right;\n",
       "    }\n",
       "\n",
       "    .dataframe thead th {\n",
       "        text-align: left;\n",
       "    }\n",
       "\n",
       "    .dataframe tbody tr th {\n",
       "        vertical-align: top;\n",
       "    }\n",
       "</style>\n",
       "<table border=\"1\" class=\"dataframe\">\n",
       "  <thead>\n",
       "    <tr style=\"text-align: right;\">\n",
       "      <th></th>\n",
       "      <th>driver_id</th>\n",
       "      <th>driver_onboard_date</th>\n",
       "    </tr>\n",
       "  </thead>\n",
       "  <tbody>\n",
       "    <tr>\n",
       "      <th>0</th>\n",
       "      <td>002be0ffdc997bd5c50703158b7c2491</td>\n",
       "      <td>2016-03-29 00:00:00</td>\n",
       "    </tr>\n",
       "    <tr>\n",
       "      <th>1</th>\n",
       "      <td>007f0389f9c7b03ef97098422f902e62</td>\n",
       "      <td>2016-03-29 00:00:00</td>\n",
       "    </tr>\n",
       "    <tr>\n",
       "      <th>2</th>\n",
       "      <td>011e5c5dfc5c2c92501b8b24d47509bc</td>\n",
       "      <td>2016-04-05 00:00:00</td>\n",
       "    </tr>\n",
       "    <tr>\n",
       "      <th>3</th>\n",
       "      <td>0152a2f305e71d26cc964f8d4411add9</td>\n",
       "      <td>2016-04-23 00:00:00</td>\n",
       "    </tr>\n",
       "    <tr>\n",
       "      <th>4</th>\n",
       "      <td>01674381af7edd264113d4e6ed55ecda</td>\n",
       "      <td>2016-04-29 00:00:00</td>\n",
       "    </tr>\n",
       "  </tbody>\n",
       "</table>\n",
       "</div>"
      ],
      "text/plain": [
       "                          driver_id  driver_onboard_date\n",
       "0  002be0ffdc997bd5c50703158b7c2491  2016-03-29 00:00:00\n",
       "1  007f0389f9c7b03ef97098422f902e62  2016-03-29 00:00:00\n",
       "2  011e5c5dfc5c2c92501b8b24d47509bc  2016-04-05 00:00:00\n",
       "3  0152a2f305e71d26cc964f8d4411add9  2016-04-23 00:00:00\n",
       "4  01674381af7edd264113d4e6ed55ecda  2016-04-29 00:00:00"
      ]
     },
     "execution_count": 203,
     "metadata": {},
     "output_type": "execute_result"
    }
   ],
   "source": [
    "driver_ids_df.head()"
   ]
  },
  {
   "cell_type": "markdown",
   "metadata": {},
   "source": [
    "#### 2) Insights"
   ]
  },
  {
   "cell_type": "markdown",
   "metadata": {},
   "source": [
    "#### 937 drivers have an onboard date\n",
    "#### The driver onboard date varies between: '2016-03-28 00:00:00' and '2016-05-15 00:00:00'"
   ]
  },
  {
   "cell_type": "code",
   "execution_count": 204,
   "metadata": {
    "collapsed": false
   },
   "outputs": [
    {
     "data": {
      "text/plain": [
       "'2016-03-28 00:00:00'"
      ]
     },
     "execution_count": 204,
     "metadata": {},
     "output_type": "execute_result"
    }
   ],
   "source": [
    "driver_ids_df['driver_onboard_date'].min()"
   ]
  },
  {
   "cell_type": "code",
   "execution_count": 205,
   "metadata": {
    "collapsed": false
   },
   "outputs": [
    {
     "data": {
      "text/plain": [
       "'2016-05-15 00:00:00'"
      ]
     },
     "execution_count": 205,
     "metadata": {},
     "output_type": "execute_result"
    }
   ],
   "source": [
    "driver_ids_df['driver_onboard_date'].max()"
   ]
  },
  {
   "cell_type": "markdown",
   "metadata": {},
   "source": [
    "### ---------------------------------------------"
   ]
  },
  {
   "cell_type": "markdown",
   "metadata": {},
   "source": [
    "# Ride id Dataframe"
   ]
  },
  {
   "cell_type": "markdown",
   "metadata": {},
   "source": [
    "### 1) General Informations about the Ride_id table\n",
    "### 2) Some Insights\n",
    "\n",
    "### -------------------------------------------------"
   ]
  },
  {
   "cell_type": "markdown",
   "metadata": {},
   "source": [
    "#### 1) General Informations"
   ]
  },
  {
   "cell_type": "code",
   "execution_count": 206,
   "metadata": {
    "collapsed": false
   },
   "outputs": [
    {
     "name": "stdout",
     "output_type": "stream",
     "text": [
      "<class 'pandas.core.frame.DataFrame'>\n",
      "RangeIndex: 193502 entries, 0 to 193501\n",
      "Data columns (total 5 columns):\n",
      "driver_id          193502 non-null object\n",
      "ride_id            193502 non-null object\n",
      "ride_distance      193502 non-null int64\n",
      "ride_duration      193502 non-null int64\n",
      "ride_prime_time    193502 non-null int64\n",
      "dtypes: int64(3), object(2)\n",
      "memory usage: 7.4+ MB\n"
     ]
    }
   ],
   "source": [
    "ride_ids_df.info()"
   ]
  },
  {
   "cell_type": "code",
   "execution_count": 207,
   "metadata": {
    "collapsed": false
   },
   "outputs": [
    {
     "data": {
      "text/html": [
       "<div>\n",
       "<style>\n",
       "    .dataframe thead tr:only-child th {\n",
       "        text-align: right;\n",
       "    }\n",
       "\n",
       "    .dataframe thead th {\n",
       "        text-align: left;\n",
       "    }\n",
       "\n",
       "    .dataframe tbody tr th {\n",
       "        vertical-align: top;\n",
       "    }\n",
       "</style>\n",
       "<table border=\"1\" class=\"dataframe\">\n",
       "  <thead>\n",
       "    <tr style=\"text-align: right;\">\n",
       "      <th></th>\n",
       "      <th>driver_id</th>\n",
       "      <th>ride_id</th>\n",
       "      <th>ride_distance</th>\n",
       "      <th>ride_duration</th>\n",
       "      <th>ride_prime_time</th>\n",
       "    </tr>\n",
       "  </thead>\n",
       "  <tbody>\n",
       "    <tr>\n",
       "      <th>0</th>\n",
       "      <td>002be0ffdc997bd5c50703158b7c2491</td>\n",
       "      <td>006d61cf7446e682f7bc50b0f8a5bea5</td>\n",
       "      <td>1811</td>\n",
       "      <td>327</td>\n",
       "      <td>50</td>\n",
       "    </tr>\n",
       "    <tr>\n",
       "      <th>1</th>\n",
       "      <td>002be0ffdc997bd5c50703158b7c2491</td>\n",
       "      <td>01b522c5c3a756fbdb12e95e87507eda</td>\n",
       "      <td>3362</td>\n",
       "      <td>809</td>\n",
       "      <td>0</td>\n",
       "    </tr>\n",
       "    <tr>\n",
       "      <th>2</th>\n",
       "      <td>002be0ffdc997bd5c50703158b7c2491</td>\n",
       "      <td>029227c4c2971ce69ff2274dc798ef43</td>\n",
       "      <td>3282</td>\n",
       "      <td>572</td>\n",
       "      <td>0</td>\n",
       "    </tr>\n",
       "    <tr>\n",
       "      <th>3</th>\n",
       "      <td>002be0ffdc997bd5c50703158b7c2491</td>\n",
       "      <td>034e861343a63ac3c18a9ceb1ce0ac69</td>\n",
       "      <td>65283</td>\n",
       "      <td>3338</td>\n",
       "      <td>25</td>\n",
       "    </tr>\n",
       "    <tr>\n",
       "      <th>4</th>\n",
       "      <td>002be0ffdc997bd5c50703158b7c2491</td>\n",
       "      <td>034f2e614a2f9fc7f1c2f77647d1b981</td>\n",
       "      <td>4115</td>\n",
       "      <td>823</td>\n",
       "      <td>100</td>\n",
       "    </tr>\n",
       "  </tbody>\n",
       "</table>\n",
       "</div>"
      ],
      "text/plain": [
       "                          driver_id                           ride_id  \\\n",
       "0  002be0ffdc997bd5c50703158b7c2491  006d61cf7446e682f7bc50b0f8a5bea5   \n",
       "1  002be0ffdc997bd5c50703158b7c2491  01b522c5c3a756fbdb12e95e87507eda   \n",
       "2  002be0ffdc997bd5c50703158b7c2491  029227c4c2971ce69ff2274dc798ef43   \n",
       "3  002be0ffdc997bd5c50703158b7c2491  034e861343a63ac3c18a9ceb1ce0ac69   \n",
       "4  002be0ffdc997bd5c50703158b7c2491  034f2e614a2f9fc7f1c2f77647d1b981   \n",
       "\n",
       "   ride_distance  ride_duration  ride_prime_time  \n",
       "0           1811            327               50  \n",
       "1           3362            809                0  \n",
       "2           3282            572                0  \n",
       "3          65283           3338               25  \n",
       "4           4115            823              100  "
      ]
     },
     "execution_count": 207,
     "metadata": {},
     "output_type": "execute_result"
    }
   ],
   "source": [
    "ride_ids_df.head()"
   ]
  },
  {
   "cell_type": "markdown",
   "metadata": {},
   "source": [
    "#### 2) Insights"
   ]
  },
  {
   "cell_type": "markdown",
   "metadata": {},
   "source": [
    "     There are 193502 rides.\n",
    "     There are 937 drivers. However, at this point we don't know if they're the same \n",
    "     than the ones in Driver_id  table\n",
    "     To get that information, one would need to join those two tables"
   ]
  },
  {
   "cell_type": "code",
   "execution_count": 208,
   "metadata": {
    "collapsed": false
   },
   "outputs": [
    {
     "data": {
      "text/plain": [
       "937"
      ]
     },
     "execution_count": 208,
     "metadata": {},
     "output_type": "execute_result"
    }
   ],
   "source": [
    "ride_ids_df['driver_id'].nunique()"
   ]
  },
  {
   "cell_type": "markdown",
   "metadata": {},
   "source": [
    "### ---------------------------------------------------------------------------------------------------------"
   ]
  },
  {
   "cell_type": "markdown",
   "metadata": {},
   "source": [
    "# Ride_timestamp Dataframe"
   ]
  },
  {
   "cell_type": "markdown",
   "metadata": {},
   "source": [
    "### 1) General Informations about the Ride_id table\n",
    "### 2) Some Insights\n",
    "\n",
    "### -------------------------------------------------"
   ]
  },
  {
   "cell_type": "markdown",
   "metadata": {},
   "source": [
    "#### 1) General information"
   ]
  },
  {
   "cell_type": "code",
   "execution_count": 209,
   "metadata": {
    "collapsed": false
   },
   "outputs": [
    {
     "name": "stdout",
     "output_type": "stream",
     "text": [
      "<class 'pandas.core.frame.DataFrame'>\n",
      "RangeIndex: 970405 entries, 0 to 970404\n",
      "Data columns (total 3 columns):\n",
      "ride_id      970405 non-null object\n",
      "event        970405 non-null object\n",
      "timestamp    970404 non-null object\n",
      "dtypes: object(3)\n",
      "memory usage: 22.2+ MB\n"
     ]
    }
   ],
   "source": [
    "ride_timestamp_df.info()"
   ]
  },
  {
   "cell_type": "code",
   "execution_count": 210,
   "metadata": {
    "collapsed": false
   },
   "outputs": [
    {
     "data": {
      "text/html": [
       "<div>\n",
       "<style>\n",
       "    .dataframe thead tr:only-child th {\n",
       "        text-align: right;\n",
       "    }\n",
       "\n",
       "    .dataframe thead th {\n",
       "        text-align: left;\n",
       "    }\n",
       "\n",
       "    .dataframe tbody tr th {\n",
       "        vertical-align: top;\n",
       "    }\n",
       "</style>\n",
       "<table border=\"1\" class=\"dataframe\">\n",
       "  <thead>\n",
       "    <tr style=\"text-align: right;\">\n",
       "      <th></th>\n",
       "      <th>ride_id</th>\n",
       "      <th>event</th>\n",
       "      <th>timestamp</th>\n",
       "    </tr>\n",
       "  </thead>\n",
       "  <tbody>\n",
       "    <tr>\n",
       "      <th>0</th>\n",
       "      <td>00003037a262d9ee40e61b5c0718f7f0</td>\n",
       "      <td>requested_at</td>\n",
       "      <td>2016-06-13 09:39:19</td>\n",
       "    </tr>\n",
       "    <tr>\n",
       "      <th>1</th>\n",
       "      <td>00003037a262d9ee40e61b5c0718f7f0</td>\n",
       "      <td>accepted_at</td>\n",
       "      <td>2016-06-13 09:39:51</td>\n",
       "    </tr>\n",
       "    <tr>\n",
       "      <th>2</th>\n",
       "      <td>00003037a262d9ee40e61b5c0718f7f0</td>\n",
       "      <td>arrived_at</td>\n",
       "      <td>2016-06-13 09:44:31</td>\n",
       "    </tr>\n",
       "    <tr>\n",
       "      <th>3</th>\n",
       "      <td>00003037a262d9ee40e61b5c0718f7f0</td>\n",
       "      <td>picked_up_at</td>\n",
       "      <td>2016-06-13 09:44:33</td>\n",
       "    </tr>\n",
       "    <tr>\n",
       "      <th>4</th>\n",
       "      <td>00003037a262d9ee40e61b5c0718f7f0</td>\n",
       "      <td>dropped_off_at</td>\n",
       "      <td>2016-06-13 10:03:05</td>\n",
       "    </tr>\n",
       "  </tbody>\n",
       "</table>\n",
       "</div>"
      ],
      "text/plain": [
       "                            ride_id           event            timestamp\n",
       "0  00003037a262d9ee40e61b5c0718f7f0    requested_at  2016-06-13 09:39:19\n",
       "1  00003037a262d9ee40e61b5c0718f7f0     accepted_at  2016-06-13 09:39:51\n",
       "2  00003037a262d9ee40e61b5c0718f7f0      arrived_at  2016-06-13 09:44:31\n",
       "3  00003037a262d9ee40e61b5c0718f7f0    picked_up_at  2016-06-13 09:44:33\n",
       "4  00003037a262d9ee40e61b5c0718f7f0  dropped_off_at  2016-06-13 10:03:05"
      ]
     },
     "execution_count": 210,
     "metadata": {},
     "output_type": "execute_result"
    }
   ],
   "source": [
    "ride_timestamp_df.head()"
   ]
  },
  {
   "cell_type": "markdown",
   "metadata": {},
   "source": [
    "#### 2) Insights"
   ]
  },
  {
   "cell_type": "markdown",
   "metadata": {},
   "source": [
    "#### First, there is 1 NULL value in the column timestamp which needs to be removed"
   ]
  },
  {
   "cell_type": "code",
   "execution_count": 211,
   "metadata": {
    "collapsed": false
   },
   "outputs": [
    {
     "data": {
      "text/html": [
       "<div>\n",
       "<style>\n",
       "    .dataframe thead tr:only-child th {\n",
       "        text-align: right;\n",
       "    }\n",
       "\n",
       "    .dataframe thead th {\n",
       "        text-align: left;\n",
       "    }\n",
       "\n",
       "    .dataframe tbody tr th {\n",
       "        vertical-align: top;\n",
       "    }\n",
       "</style>\n",
       "<table border=\"1\" class=\"dataframe\">\n",
       "  <thead>\n",
       "    <tr style=\"text-align: right;\">\n",
       "      <th></th>\n",
       "      <th>ride_id</th>\n",
       "      <th>event</th>\n",
       "      <th>timestamp</th>\n",
       "    </tr>\n",
       "  </thead>\n",
       "  <tbody>\n",
       "    <tr>\n",
       "      <th>434222</th>\n",
       "      <td>72f0fa0bd86800e9da5c4dced32c8735</td>\n",
       "      <td>arrived_at</td>\n",
       "      <td>NaN</td>\n",
       "    </tr>\n",
       "  </tbody>\n",
       "</table>\n",
       "</div>"
      ],
      "text/plain": [
       "                                 ride_id       event timestamp\n",
       "434222  72f0fa0bd86800e9da5c4dced32c8735  arrived_at       NaN"
      ]
     },
     "execution_count": 211,
     "metadata": {},
     "output_type": "execute_result"
    }
   ],
   "source": [
    "ride_timestamp_df[ride_timestamp_df['timestamp'].isnull()]"
   ]
  },
  {
   "cell_type": "code",
   "execution_count": 212,
   "metadata": {
    "collapsed": false
   },
   "outputs": [
    {
     "data": {
      "text/html": [
       "<div>\n",
       "<style>\n",
       "    .dataframe thead tr:only-child th {\n",
       "        text-align: right;\n",
       "    }\n",
       "\n",
       "    .dataframe thead th {\n",
       "        text-align: left;\n",
       "    }\n",
       "\n",
       "    .dataframe tbody tr th {\n",
       "        vertical-align: top;\n",
       "    }\n",
       "</style>\n",
       "<table border=\"1\" class=\"dataframe\">\n",
       "  <thead>\n",
       "    <tr style=\"text-align: right;\">\n",
       "      <th></th>\n",
       "      <th>ride_id</th>\n",
       "      <th>event</th>\n",
       "      <th>timestamp</th>\n",
       "    </tr>\n",
       "  </thead>\n",
       "  <tbody>\n",
       "    <tr>\n",
       "      <th>434220</th>\n",
       "      <td>72f0fa0bd86800e9da5c4dced32c8735</td>\n",
       "      <td>requested_at</td>\n",
       "      <td>2016-04-20 11:56:50</td>\n",
       "    </tr>\n",
       "    <tr>\n",
       "      <th>434221</th>\n",
       "      <td>72f0fa0bd86800e9da5c4dced32c8735</td>\n",
       "      <td>accepted_at</td>\n",
       "      <td>2016-04-20 11:57:20</td>\n",
       "    </tr>\n",
       "    <tr>\n",
       "      <th>434222</th>\n",
       "      <td>72f0fa0bd86800e9da5c4dced32c8735</td>\n",
       "      <td>arrived_at</td>\n",
       "      <td>NaN</td>\n",
       "    </tr>\n",
       "    <tr>\n",
       "      <th>434223</th>\n",
       "      <td>72f0fa0bd86800e9da5c4dced32c8735</td>\n",
       "      <td>picked_up_at</td>\n",
       "      <td>2016-04-20 12:02:20</td>\n",
       "    </tr>\n",
       "    <tr>\n",
       "      <th>434224</th>\n",
       "      <td>72f0fa0bd86800e9da5c4dced32c8735</td>\n",
       "      <td>dropped_off_at</td>\n",
       "      <td>2016-04-20 12:16:30</td>\n",
       "    </tr>\n",
       "  </tbody>\n",
       "</table>\n",
       "</div>"
      ],
      "text/plain": [
       "                                 ride_id           event            timestamp\n",
       "434220  72f0fa0bd86800e9da5c4dced32c8735    requested_at  2016-04-20 11:56:50\n",
       "434221  72f0fa0bd86800e9da5c4dced32c8735     accepted_at  2016-04-20 11:57:20\n",
       "434222  72f0fa0bd86800e9da5c4dced32c8735      arrived_at                  NaN\n",
       "434223  72f0fa0bd86800e9da5c4dced32c8735    picked_up_at  2016-04-20 12:02:20\n",
       "434224  72f0fa0bd86800e9da5c4dced32c8735  dropped_off_at  2016-04-20 12:16:30"
      ]
     },
     "execution_count": 212,
     "metadata": {},
     "output_type": "execute_result"
    }
   ],
   "source": [
    "ride_timestamp_df[ride_timestamp_df['ride_id']=='72f0fa0bd86800e9da5c4dced32c8735']"
   ]
  },
  {
   "cell_type": "code",
   "execution_count": 213,
   "metadata": {
    "collapsed": true
   },
   "outputs": [],
   "source": [
    "ride_timestamp_df.drop(ride_timestamp_df.index[[434220,434221,434222,434223,434224]],inplace=True)"
   ]
  },
  {
   "cell_type": "markdown",
   "metadata": {},
   "source": [
    "#### Second, the ride time range varies between: '2016-03-28 05:48:18' and '2016-06-27 00:50:50'\n",
    "#### To avoid seasonality effects, we'll consider 3 periods of 28 days"
   ]
  },
  {
   "cell_type": "code",
   "execution_count": 214,
   "metadata": {
    "collapsed": false
   },
   "outputs": [
    {
     "data": {
      "text/plain": [
       "'2016-03-28 05:48:18'"
      ]
     },
     "execution_count": 214,
     "metadata": {},
     "output_type": "execute_result"
    }
   ],
   "source": [
    "ride_timestamp_df['timestamp'].min()"
   ]
  },
  {
   "cell_type": "code",
   "execution_count": 215,
   "metadata": {
    "collapsed": false
   },
   "outputs": [
    {
     "data": {
      "text/plain": [
       "'2016-06-27 00:50:50'"
      ]
     },
     "execution_count": 215,
     "metadata": {},
     "output_type": "execute_result"
    }
   ],
   "source": [
    "ride_timestamp_df['timestamp'].max()"
   ]
  },
  {
   "cell_type": "markdown",
   "metadata": {},
   "source": [
    "### -----------------------------------------------------------------------------------------------------"
   ]
  },
  {
   "cell_type": "markdown",
   "metadata": {},
   "source": [
    "# PART B"
   ]
  },
  {
   "cell_type": "markdown",
   "metadata": {},
   "source": [
    "## Join the Driver_id and the Ride_id tables"
   ]
  },
  {
   "cell_type": "markdown",
   "metadata": {},
   "source": [
    "#### An outer join is used cause one of the hypothesis is:\n",
    "     \n",
    "     83 drivers joined LYFT (have an onboard date) but didn't complete any ride.\n",
    "     Those drivers are kept in the dataframe cause they will impact the distribution\n",
    "     of the number of rides per driver\n",
    "     \n",
    "     Also, there are 83 drivers that don't have an onboard date \n",
    "     --> Need to be removed cause the onboard date is crucial\n",
    "     to compute the number of rides per driver daily\n",
    "     --> Removing 8% of the drivers shouldn't impact the average driver behavior trend"
   ]
  },
  {
   "cell_type": "code",
   "execution_count": 216,
   "metadata": {
    "collapsed": true
   },
   "outputs": [],
   "source": [
    "combined_df_driver_id_ride_id = pd.merge(driver_ids_df,ride_ids_df,how='outer',on='driver_id')"
   ]
  },
  {
   "cell_type": "code",
   "execution_count": 217,
   "metadata": {
    "collapsed": false
   },
   "outputs": [
    {
     "name": "stdout",
     "output_type": "stream",
     "text": [
      "<class 'pandas.core.frame.DataFrame'>\n",
      "Int64Index: 193585 entries, 0 to 193584\n",
      "Data columns (total 6 columns):\n",
      "driver_id              193585 non-null object\n",
      "driver_onboard_date    185974 non-null object\n",
      "ride_id                193502 non-null object\n",
      "ride_distance          193502 non-null float64\n",
      "ride_duration          193502 non-null float64\n",
      "ride_prime_time        193502 non-null float64\n",
      "dtypes: float64(3), object(3)\n",
      "memory usage: 10.3+ MB\n"
     ]
    }
   ],
   "source": [
    "combined_df_driver_id_ride_id.info()"
   ]
  },
  {
   "cell_type": "code",
   "execution_count": 218,
   "metadata": {
    "collapsed": false
   },
   "outputs": [
    {
     "data": {
      "text/plain": [
       "1020"
      ]
     },
     "execution_count": 218,
     "metadata": {},
     "output_type": "execute_result"
    }
   ],
   "source": [
    "# When joining the driver_id to the ride_id table\n",
    "# the number of unique drivers increased to 1,020\n",
    "# because there are 83 drivers that don't have a onboard date\n",
    "\n",
    "combined_df_driver_id_ride_id['driver_id'].nunique()"
   ]
  },
  {
   "cell_type": "code",
   "execution_count": 219,
   "metadata": {
    "collapsed": false
   },
   "outputs": [
    {
     "data": {
      "text/plain": [
       "83"
      ]
     },
     "execution_count": 219,
     "metadata": {},
     "output_type": "execute_result"
    }
   ],
   "source": [
    "# There are 83 drivers (8%) that don't have an onboard date but are completing rides. \n",
    "# Those are removed\n",
    "combined_df_driver_id_ride_id[combined_df_driver_id_ride_id['driver_onboard_date'].isnull()]['driver_id'].nunique()"
   ]
  },
  {
   "cell_type": "code",
   "execution_count": 220,
   "metadata": {
    "collapsed": false
   },
   "outputs": [],
   "source": [
    "# Those are removed using a mask\n",
    "combined_df_driver_id_ride_id = combined_df_driver_id_ride_id[combined_df_driver_id_ride_id['driver_onboard_date'].notnull()]"
   ]
  },
  {
   "cell_type": "code",
   "execution_count": 221,
   "metadata": {
    "collapsed": false
   },
   "outputs": [
    {
     "data": {
      "text/plain": [
       "83"
      ]
     },
     "execution_count": 221,
     "metadata": {},
     "output_type": "execute_result"
    }
   ],
   "source": [
    "# There are 83 drivers that have an onboard date BUT didn't complete any ride\n",
    "# Those are kept in the dataframe\n",
    "combined_df_driver_id_ride_id[combined_df_driver_id_ride_id['ride_id'].isnull()]['driver_id'].nunique()"
   ]
  },
  {
   "cell_type": "code",
   "execution_count": 222,
   "metadata": {
    "collapsed": false
   },
   "outputs": [
    {
     "name": "stdout",
     "output_type": "stream",
     "text": [
      "<class 'pandas.core.frame.DataFrame'>\n",
      "Int64Index: 185974 entries, 0 to 185973\n",
      "Data columns (total 6 columns):\n",
      "driver_id              185974 non-null object\n",
      "driver_onboard_date    185974 non-null object\n",
      "ride_id                185891 non-null object\n",
      "ride_distance          185891 non-null float64\n",
      "ride_duration          185891 non-null float64\n",
      "ride_prime_time        185891 non-null float64\n",
      "dtypes: float64(3), object(3)\n",
      "memory usage: 9.9+ MB\n"
     ]
    }
   ],
   "source": [
    "combined_df_driver_id_ride_id.info()"
   ]
  },
  {
   "cell_type": "code",
   "execution_count": 223,
   "metadata": {
    "collapsed": false
   },
   "outputs": [
    {
     "data": {
      "text/html": [
       "<div>\n",
       "<style>\n",
       "    .dataframe thead tr:only-child th {\n",
       "        text-align: right;\n",
       "    }\n",
       "\n",
       "    .dataframe thead th {\n",
       "        text-align: left;\n",
       "    }\n",
       "\n",
       "    .dataframe tbody tr th {\n",
       "        vertical-align: top;\n",
       "    }\n",
       "</style>\n",
       "<table border=\"1\" class=\"dataframe\">\n",
       "  <thead>\n",
       "    <tr style=\"text-align: right;\">\n",
       "      <th></th>\n",
       "      <th>driver_id</th>\n",
       "      <th>driver_onboard_date</th>\n",
       "      <th>ride_id</th>\n",
       "      <th>ride_distance</th>\n",
       "      <th>ride_duration</th>\n",
       "      <th>ride_prime_time</th>\n",
       "    </tr>\n",
       "  </thead>\n",
       "  <tbody>\n",
       "    <tr>\n",
       "      <th>0</th>\n",
       "      <td>002be0ffdc997bd5c50703158b7c2491</td>\n",
       "      <td>2016-03-29 00:00:00</td>\n",
       "      <td>006d61cf7446e682f7bc50b0f8a5bea5</td>\n",
       "      <td>1811.0</td>\n",
       "      <td>327.0</td>\n",
       "      <td>50.0</td>\n",
       "    </tr>\n",
       "    <tr>\n",
       "      <th>1</th>\n",
       "      <td>002be0ffdc997bd5c50703158b7c2491</td>\n",
       "      <td>2016-03-29 00:00:00</td>\n",
       "      <td>01b522c5c3a756fbdb12e95e87507eda</td>\n",
       "      <td>3362.0</td>\n",
       "      <td>809.0</td>\n",
       "      <td>0.0</td>\n",
       "    </tr>\n",
       "    <tr>\n",
       "      <th>2</th>\n",
       "      <td>002be0ffdc997bd5c50703158b7c2491</td>\n",
       "      <td>2016-03-29 00:00:00</td>\n",
       "      <td>029227c4c2971ce69ff2274dc798ef43</td>\n",
       "      <td>3282.0</td>\n",
       "      <td>572.0</td>\n",
       "      <td>0.0</td>\n",
       "    </tr>\n",
       "    <tr>\n",
       "      <th>3</th>\n",
       "      <td>002be0ffdc997bd5c50703158b7c2491</td>\n",
       "      <td>2016-03-29 00:00:00</td>\n",
       "      <td>034e861343a63ac3c18a9ceb1ce0ac69</td>\n",
       "      <td>65283.0</td>\n",
       "      <td>3338.0</td>\n",
       "      <td>25.0</td>\n",
       "    </tr>\n",
       "    <tr>\n",
       "      <th>4</th>\n",
       "      <td>002be0ffdc997bd5c50703158b7c2491</td>\n",
       "      <td>2016-03-29 00:00:00</td>\n",
       "      <td>034f2e614a2f9fc7f1c2f77647d1b981</td>\n",
       "      <td>4115.0</td>\n",
       "      <td>823.0</td>\n",
       "      <td>100.0</td>\n",
       "    </tr>\n",
       "  </tbody>\n",
       "</table>\n",
       "</div>"
      ],
      "text/plain": [
       "                          driver_id  driver_onboard_date  \\\n",
       "0  002be0ffdc997bd5c50703158b7c2491  2016-03-29 00:00:00   \n",
       "1  002be0ffdc997bd5c50703158b7c2491  2016-03-29 00:00:00   \n",
       "2  002be0ffdc997bd5c50703158b7c2491  2016-03-29 00:00:00   \n",
       "3  002be0ffdc997bd5c50703158b7c2491  2016-03-29 00:00:00   \n",
       "4  002be0ffdc997bd5c50703158b7c2491  2016-03-29 00:00:00   \n",
       "\n",
       "                            ride_id  ride_distance  ride_duration  \\\n",
       "0  006d61cf7446e682f7bc50b0f8a5bea5         1811.0          327.0   \n",
       "1  01b522c5c3a756fbdb12e95e87507eda         3362.0          809.0   \n",
       "2  029227c4c2971ce69ff2274dc798ef43         3282.0          572.0   \n",
       "3  034e861343a63ac3c18a9ceb1ce0ac69        65283.0         3338.0   \n",
       "4  034f2e614a2f9fc7f1c2f77647d1b981         4115.0          823.0   \n",
       "\n",
       "   ride_prime_time  \n",
       "0             50.0  \n",
       "1              0.0  \n",
       "2              0.0  \n",
       "3             25.0  \n",
       "4            100.0  "
      ]
     },
     "execution_count": 223,
     "metadata": {},
     "output_type": "execute_result"
    }
   ],
   "source": [
    "combined_df_driver_id_ride_id.head()"
   ]
  },
  {
   "cell_type": "markdown",
   "metadata": {},
   "source": [
    "## Join the Combined Driver_id/Ride_id table to the Ride_timestamp \n"
   ]
  },
  {
   "cell_type": "markdown",
   "metadata": {},
   "source": [
    "#### An outer join is used cause one of the hypothesis is:\n",
    "    \n",
    "    1683 rides (0.8%) don't have an associated timestamp\n",
    "    --> Those rides need to be remove"
   ]
  },
  {
   "cell_type": "code",
   "execution_count": 224,
   "metadata": {
    "collapsed": false
   },
   "outputs": [],
   "source": [
    "combined_df_driver_id_ride_id_ride_timestamp = pd.merge(combined_df_driver_id_ride_id,ride_timestamp_df,how='outer',on='ride_id')"
   ]
  },
  {
   "cell_type": "code",
   "execution_count": 225,
   "metadata": {
    "collapsed": false
   },
   "outputs": [
    {
     "name": "stdout",
     "output_type": "stream",
     "text": [
      "<class 'pandas.core.frame.DataFrame'>\n",
      "Int64Index: 972166 entries, 0 to 972165\n",
      "Data columns (total 8 columns):\n",
      "driver_id              922806 non-null object\n",
      "driver_onboard_date    922806 non-null object\n",
      "ride_id                972083 non-null object\n",
      "ride_distance          922723 non-null float64\n",
      "ride_duration          922723 non-null float64\n",
      "ride_prime_time        922723 non-null float64\n",
      "event                  970400 non-null object\n",
      "timestamp              970400 non-null object\n",
      "dtypes: float64(3), object(5)\n",
      "memory usage: 66.8+ MB\n"
     ]
    }
   ],
   "source": [
    "combined_df_driver_id_ride_id_ride_timestamp.info()"
   ]
  },
  {
   "cell_type": "code",
   "execution_count": 226,
   "metadata": {
    "collapsed": false
   },
   "outputs": [
    {
     "data": {
      "text/plain": [
       "195763"
      ]
     },
     "execution_count": 226,
     "metadata": {},
     "output_type": "execute_result"
    }
   ],
   "source": [
    "# It's important to observe that the number of unique rides \n",
    "# is higher than the one obtained with the Ride_id table 194,080\n",
    "# There are rides from ride_id that don't have a timestamp\n",
    "# those are removed using a mask\n",
    "\n",
    "combined_df_driver_id_ride_id_ride_timestamp['ride_id'].nunique()"
   ]
  },
  {
   "cell_type": "code",
   "execution_count": 227,
   "metadata": {
    "collapsed": false
   },
   "outputs": [
    {
     "data": {
      "text/plain": [
       "1683"
      ]
     },
     "execution_count": 227,
     "metadata": {},
     "output_type": "execute_result"
    }
   ],
   "source": [
    "# The existing rides with no associated timestamp (1683 represents 0.8%) have to be removed\n",
    "# It's important to mention that the drivers that didn't complete any rides\n",
    "# are kept in the dataframe\n",
    "\n",
    "combined_df_driver_id_ride_id_ride_timestamp[combined_df_driver_id_ride_id_ride_timestamp['timestamp'].isnull() & \n",
    "                                             combined_df_driver_id_ride_id_ride_timestamp['ride_id'].notnull()]['ride_id'].nunique()"
   ]
  },
  {
   "cell_type": "code",
   "execution_count": 228,
   "metadata": {
    "collapsed": true
   },
   "outputs": [],
   "source": [
    "# A mask is used to only keep the rides that have associated timestamp OR the \n",
    "# case when the drivers didn't complete any rides\n",
    "\n",
    "combined_df_driver_id_ride_id_ride_timestamp = combined_df_driver_id_ride_id_ride_timestamp[((combined_df_driver_id_ride_id_ride_timestamp['ride_id'].isnull()) \n",
    "                                                                                       & (combined_df_driver_id_ride_id_ride_timestamp['timestamp'].isnull())) | \n",
    "                                                                                      (( combined_df_driver_id_ride_id_ride_timestamp['ride_id'].notnull()) & \n",
    "                                                                                       (combined_df_driver_id_ride_id_ride_timestamp['timestamp'].notnull()))]"
   ]
  },
  {
   "cell_type": "code",
   "execution_count": 229,
   "metadata": {
    "collapsed": false,
    "scrolled": true
   },
   "outputs": [
    {
     "name": "stdout",
     "output_type": "stream",
     "text": [
      "<class 'pandas.core.frame.DataFrame'>\n",
      "Int64Index: 970483 entries, 0 to 972165\n",
      "Data columns (total 8 columns):\n",
      "driver_id              921123 non-null object\n",
      "driver_onboard_date    921123 non-null object\n",
      "ride_id                970400 non-null object\n",
      "ride_distance          921040 non-null float64\n",
      "ride_duration          921040 non-null float64\n",
      "ride_prime_time        921040 non-null float64\n",
      "event                  970400 non-null object\n",
      "timestamp              970400 non-null object\n",
      "dtypes: float64(3), object(5)\n",
      "memory usage: 66.6+ MB\n"
     ]
    }
   ],
   "source": [
    "combined_df_driver_id_ride_id_ride_timestamp.info()"
   ]
  },
  {
   "cell_type": "markdown",
   "metadata": {},
   "source": [
    "## -------------------------------------------------------------------------"
   ]
  },
  {
   "cell_type": "markdown",
   "metadata": {},
   "source": [
    "#### Conversion:\n",
    "    meter to mile: 1 meter = 0.000621371 mile\n",
    "    second to minute: Assumption: every minute is rounded to the lower bound"
   ]
  },
  {
   "cell_type": "code",
   "execution_count": 230,
   "metadata": {
    "collapsed": false
   },
   "outputs": [
    {
     "data": {
      "text/html": [
       "<div>\n",
       "<style>\n",
       "    .dataframe thead tr:only-child th {\n",
       "        text-align: right;\n",
       "    }\n",
       "\n",
       "    .dataframe thead th {\n",
       "        text-align: left;\n",
       "    }\n",
       "\n",
       "    .dataframe tbody tr th {\n",
       "        vertical-align: top;\n",
       "    }\n",
       "</style>\n",
       "<table border=\"1\" class=\"dataframe\">\n",
       "  <thead>\n",
       "    <tr style=\"text-align: right;\">\n",
       "      <th></th>\n",
       "      <th>driver_id</th>\n",
       "      <th>driver_onboard_date</th>\n",
       "      <th>ride_id</th>\n",
       "      <th>ride_distance</th>\n",
       "      <th>ride_duration</th>\n",
       "      <th>ride_prime_time</th>\n",
       "      <th>event</th>\n",
       "      <th>timestamp</th>\n",
       "      <th>ride_duration_minutes</th>\n",
       "      <th>ride_distance_miles</th>\n",
       "    </tr>\n",
       "  </thead>\n",
       "  <tbody>\n",
       "    <tr>\n",
       "      <th>0</th>\n",
       "      <td>002be0ffdc997bd5c50703158b7c2491</td>\n",
       "      <td>2016-03-29 00:00:00</td>\n",
       "      <td>006d61cf7446e682f7bc50b0f8a5bea5</td>\n",
       "      <td>1811.0</td>\n",
       "      <td>327.0</td>\n",
       "      <td>50.0</td>\n",
       "      <td>requested_at</td>\n",
       "      <td>2016-04-23 02:13:50</td>\n",
       "      <td>5.0</td>\n",
       "      <td>1.125303</td>\n",
       "    </tr>\n",
       "    <tr>\n",
       "      <th>1</th>\n",
       "      <td>002be0ffdc997bd5c50703158b7c2491</td>\n",
       "      <td>2016-03-29 00:00:00</td>\n",
       "      <td>006d61cf7446e682f7bc50b0f8a5bea5</td>\n",
       "      <td>1811.0</td>\n",
       "      <td>327.0</td>\n",
       "      <td>50.0</td>\n",
       "      <td>accepted_at</td>\n",
       "      <td>2016-04-23 02:14:15</td>\n",
       "      <td>5.0</td>\n",
       "      <td>1.125303</td>\n",
       "    </tr>\n",
       "    <tr>\n",
       "      <th>2</th>\n",
       "      <td>002be0ffdc997bd5c50703158b7c2491</td>\n",
       "      <td>2016-03-29 00:00:00</td>\n",
       "      <td>006d61cf7446e682f7bc50b0f8a5bea5</td>\n",
       "      <td>1811.0</td>\n",
       "      <td>327.0</td>\n",
       "      <td>50.0</td>\n",
       "      <td>arrived_at</td>\n",
       "      <td>2016-04-23 02:16:36</td>\n",
       "      <td>5.0</td>\n",
       "      <td>1.125303</td>\n",
       "    </tr>\n",
       "    <tr>\n",
       "      <th>3</th>\n",
       "      <td>002be0ffdc997bd5c50703158b7c2491</td>\n",
       "      <td>2016-03-29 00:00:00</td>\n",
       "      <td>006d61cf7446e682f7bc50b0f8a5bea5</td>\n",
       "      <td>1811.0</td>\n",
       "      <td>327.0</td>\n",
       "      <td>50.0</td>\n",
       "      <td>picked_up_at</td>\n",
       "      <td>2016-04-23 02:16:40</td>\n",
       "      <td>5.0</td>\n",
       "      <td>1.125303</td>\n",
       "    </tr>\n",
       "    <tr>\n",
       "      <th>4</th>\n",
       "      <td>002be0ffdc997bd5c50703158b7c2491</td>\n",
       "      <td>2016-03-29 00:00:00</td>\n",
       "      <td>006d61cf7446e682f7bc50b0f8a5bea5</td>\n",
       "      <td>1811.0</td>\n",
       "      <td>327.0</td>\n",
       "      <td>50.0</td>\n",
       "      <td>dropped_off_at</td>\n",
       "      <td>2016-04-23 02:22:07</td>\n",
       "      <td>5.0</td>\n",
       "      <td>1.125303</td>\n",
       "    </tr>\n",
       "  </tbody>\n",
       "</table>\n",
       "</div>"
      ],
      "text/plain": [
       "                          driver_id  driver_onboard_date  \\\n",
       "0  002be0ffdc997bd5c50703158b7c2491  2016-03-29 00:00:00   \n",
       "1  002be0ffdc997bd5c50703158b7c2491  2016-03-29 00:00:00   \n",
       "2  002be0ffdc997bd5c50703158b7c2491  2016-03-29 00:00:00   \n",
       "3  002be0ffdc997bd5c50703158b7c2491  2016-03-29 00:00:00   \n",
       "4  002be0ffdc997bd5c50703158b7c2491  2016-03-29 00:00:00   \n",
       "\n",
       "                            ride_id  ride_distance  ride_duration  \\\n",
       "0  006d61cf7446e682f7bc50b0f8a5bea5         1811.0          327.0   \n",
       "1  006d61cf7446e682f7bc50b0f8a5bea5         1811.0          327.0   \n",
       "2  006d61cf7446e682f7bc50b0f8a5bea5         1811.0          327.0   \n",
       "3  006d61cf7446e682f7bc50b0f8a5bea5         1811.0          327.0   \n",
       "4  006d61cf7446e682f7bc50b0f8a5bea5         1811.0          327.0   \n",
       "\n",
       "   ride_prime_time           event            timestamp  \\\n",
       "0             50.0    requested_at  2016-04-23 02:13:50   \n",
       "1             50.0     accepted_at  2016-04-23 02:14:15   \n",
       "2             50.0      arrived_at  2016-04-23 02:16:36   \n",
       "3             50.0    picked_up_at  2016-04-23 02:16:40   \n",
       "4             50.0  dropped_off_at  2016-04-23 02:22:07   \n",
       "\n",
       "   ride_duration_minutes  ride_distance_miles  \n",
       "0                    5.0             1.125303  \n",
       "1                    5.0             1.125303  \n",
       "2                    5.0             1.125303  \n",
       "3                    5.0             1.125303  \n",
       "4                    5.0             1.125303  "
      ]
     },
     "execution_count": 230,
     "metadata": {},
     "output_type": "execute_result"
    }
   ],
   "source": [
    "combined_df_driver_id_ride_id_ride_timestamp['ride_duration_minutes']=combined_df_driver_id_ride_id_ride_timestamp['ride_duration'].map(lambda x: int(x/60) if not math.isnan(x) else x )\n",
    "combined_df_driver_id_ride_id_ride_timestamp['ride_distance_miles']=combined_df_driver_id_ride_id_ride_timestamp['ride_distance']*0.000621371\n",
    "combined_df_driver_id_ride_id_ride_timestamp.head()"
   ]
  },
  {
   "cell_type": "code",
   "execution_count": 231,
   "metadata": {
    "collapsed": true
   },
   "outputs": [],
   "source": [
    "# Function to compute the ride price\n",
    "\n",
    "def compute_ride_price(distance_miles, duration_minute, prime):\n",
    "    price = 2+1.75+distance_miles*1.15+duration_minute*0.22\n",
    "    price = price *((100+prime)/100.0)\n",
    "    price.loc[price>400]=400\n",
    "    price.loc[price<5]=5\n",
    "    return price"
   ]
  },
  {
   "cell_type": "code",
   "execution_count": 232,
   "metadata": {
    "collapsed": false,
    "scrolled": true
   },
   "outputs": [
    {
     "data": {
      "text/html": [
       "<div>\n",
       "<style>\n",
       "    .dataframe thead tr:only-child th {\n",
       "        text-align: right;\n",
       "    }\n",
       "\n",
       "    .dataframe thead th {\n",
       "        text-align: left;\n",
       "    }\n",
       "\n",
       "    .dataframe tbody tr th {\n",
       "        vertical-align: top;\n",
       "    }\n",
       "</style>\n",
       "<table border=\"1\" class=\"dataframe\">\n",
       "  <thead>\n",
       "    <tr style=\"text-align: right;\">\n",
       "      <th></th>\n",
       "      <th>driver_id</th>\n",
       "      <th>driver_onboard_date</th>\n",
       "      <th>ride_id</th>\n",
       "      <th>ride_distance</th>\n",
       "      <th>ride_duration</th>\n",
       "      <th>ride_prime_time</th>\n",
       "      <th>event</th>\n",
       "      <th>timestamp</th>\n",
       "      <th>ride_duration_minutes</th>\n",
       "      <th>ride_distance_miles</th>\n",
       "      <th>total_revenue_$</th>\n",
       "    </tr>\n",
       "  </thead>\n",
       "  <tbody>\n",
       "    <tr>\n",
       "      <th>0</th>\n",
       "      <td>002be0ffdc997bd5c50703158b7c2491</td>\n",
       "      <td>2016-03-29 00:00:00</td>\n",
       "      <td>006d61cf7446e682f7bc50b0f8a5bea5</td>\n",
       "      <td>1811.0</td>\n",
       "      <td>327.0</td>\n",
       "      <td>50.0</td>\n",
       "      <td>requested_at</td>\n",
       "      <td>2016-04-23 02:13:50</td>\n",
       "      <td>5.0</td>\n",
       "      <td>1.125303</td>\n",
       "      <td>7.937497</td>\n",
       "    </tr>\n",
       "    <tr>\n",
       "      <th>1</th>\n",
       "      <td>002be0ffdc997bd5c50703158b7c2491</td>\n",
       "      <td>2016-03-29 00:00:00</td>\n",
       "      <td>006d61cf7446e682f7bc50b0f8a5bea5</td>\n",
       "      <td>1811.0</td>\n",
       "      <td>327.0</td>\n",
       "      <td>50.0</td>\n",
       "      <td>accepted_at</td>\n",
       "      <td>2016-04-23 02:14:15</td>\n",
       "      <td>5.0</td>\n",
       "      <td>1.125303</td>\n",
       "      <td>7.937497</td>\n",
       "    </tr>\n",
       "    <tr>\n",
       "      <th>2</th>\n",
       "      <td>002be0ffdc997bd5c50703158b7c2491</td>\n",
       "      <td>2016-03-29 00:00:00</td>\n",
       "      <td>006d61cf7446e682f7bc50b0f8a5bea5</td>\n",
       "      <td>1811.0</td>\n",
       "      <td>327.0</td>\n",
       "      <td>50.0</td>\n",
       "      <td>arrived_at</td>\n",
       "      <td>2016-04-23 02:16:36</td>\n",
       "      <td>5.0</td>\n",
       "      <td>1.125303</td>\n",
       "      <td>7.937497</td>\n",
       "    </tr>\n",
       "    <tr>\n",
       "      <th>3</th>\n",
       "      <td>002be0ffdc997bd5c50703158b7c2491</td>\n",
       "      <td>2016-03-29 00:00:00</td>\n",
       "      <td>006d61cf7446e682f7bc50b0f8a5bea5</td>\n",
       "      <td>1811.0</td>\n",
       "      <td>327.0</td>\n",
       "      <td>50.0</td>\n",
       "      <td>picked_up_at</td>\n",
       "      <td>2016-04-23 02:16:40</td>\n",
       "      <td>5.0</td>\n",
       "      <td>1.125303</td>\n",
       "      <td>7.937497</td>\n",
       "    </tr>\n",
       "    <tr>\n",
       "      <th>4</th>\n",
       "      <td>002be0ffdc997bd5c50703158b7c2491</td>\n",
       "      <td>2016-03-29 00:00:00</td>\n",
       "      <td>006d61cf7446e682f7bc50b0f8a5bea5</td>\n",
       "      <td>1811.0</td>\n",
       "      <td>327.0</td>\n",
       "      <td>50.0</td>\n",
       "      <td>dropped_off_at</td>\n",
       "      <td>2016-04-23 02:22:07</td>\n",
       "      <td>5.0</td>\n",
       "      <td>1.125303</td>\n",
       "      <td>7.937497</td>\n",
       "    </tr>\n",
       "  </tbody>\n",
       "</table>\n",
       "</div>"
      ],
      "text/plain": [
       "                          driver_id  driver_onboard_date  \\\n",
       "0  002be0ffdc997bd5c50703158b7c2491  2016-03-29 00:00:00   \n",
       "1  002be0ffdc997bd5c50703158b7c2491  2016-03-29 00:00:00   \n",
       "2  002be0ffdc997bd5c50703158b7c2491  2016-03-29 00:00:00   \n",
       "3  002be0ffdc997bd5c50703158b7c2491  2016-03-29 00:00:00   \n",
       "4  002be0ffdc997bd5c50703158b7c2491  2016-03-29 00:00:00   \n",
       "\n",
       "                            ride_id  ride_distance  ride_duration  \\\n",
       "0  006d61cf7446e682f7bc50b0f8a5bea5         1811.0          327.0   \n",
       "1  006d61cf7446e682f7bc50b0f8a5bea5         1811.0          327.0   \n",
       "2  006d61cf7446e682f7bc50b0f8a5bea5         1811.0          327.0   \n",
       "3  006d61cf7446e682f7bc50b0f8a5bea5         1811.0          327.0   \n",
       "4  006d61cf7446e682f7bc50b0f8a5bea5         1811.0          327.0   \n",
       "\n",
       "   ride_prime_time           event            timestamp  \\\n",
       "0             50.0    requested_at  2016-04-23 02:13:50   \n",
       "1             50.0     accepted_at  2016-04-23 02:14:15   \n",
       "2             50.0      arrived_at  2016-04-23 02:16:36   \n",
       "3             50.0    picked_up_at  2016-04-23 02:16:40   \n",
       "4             50.0  dropped_off_at  2016-04-23 02:22:07   \n",
       "\n",
       "   ride_duration_minutes  ride_distance_miles  total_revenue_$  \n",
       "0                    5.0             1.125303         7.937497  \n",
       "1                    5.0             1.125303         7.937497  \n",
       "2                    5.0             1.125303         7.937497  \n",
       "3                    5.0             1.125303         7.937497  \n",
       "4                    5.0             1.125303         7.937497  "
      ]
     },
     "execution_count": 232,
     "metadata": {},
     "output_type": "execute_result"
    }
   ],
   "source": [
    "combined_df_driver_id_ride_id_ride_timestamp['total_revenue_$'] = compute_ride_price(\n",
    "                                                                                    combined_df_driver_id_ride_id_ride_timestamp['ride_distance_miles'], \n",
    "                                                                                    combined_df_driver_id_ride_id_ride_timestamp['ride_distance_miles'], \n",
    "                                                                                    combined_df_driver_id_ride_id_ride_timestamp['ride_prime_time']\n",
    "                                                                                    )\n",
    "combined_df_driver_id_ride_id_ride_timestamp.head()"
   ]
  },
  {
   "cell_type": "code",
   "execution_count": 233,
   "metadata": {
    "collapsed": false
   },
   "outputs": [],
   "source": [
    "# Rides contain information per ride_id\n",
    "# Because there are 83 drivers that didn't complete \n",
    "# any rides, rides will not take them into account (group by ignores nan values)\n",
    "\n",
    "rides = combined_df_driver_id_ride_id_ride_timestamp.groupby('ride_id', as_index=False).agg({\n",
    "                                                                    'driver_id': lambda x : x.iloc[0],\n",
    "                                                                    'driver_onboard_date': lambda x: x.iloc[0],\n",
    "                                                                    'ride_distance': lambda x: x.iloc[0],\n",
    "                                                                    'ride_duration' : lambda x: x.iloc[0],\n",
    "                                                                    'ride_prime_time': lambda x: x.iloc[0],\n",
    "                                                                    'timestamp': lambda x: x.iloc[0],\n",
    "                                                                    'ride_duration_minutes': lambda x: x.iloc[0],\n",
    "                                                                    'ride_distance_miles': lambda x: x.iloc[0],\n",
    "                                                                    'total_revenue_$': lambda x: x.iloc[0],  \n",
    "                                                                    })\n"
   ]
  },
  {
   "cell_type": "markdown",
   "metadata": {},
   "source": [
    "# -----------------------------------------------------------------------"
   ]
  },
  {
   "cell_type": "code",
   "execution_count": 234,
   "metadata": {
    "collapsed": false
   },
   "outputs": [
    {
     "data": {
      "text/html": [
       "<div>\n",
       "<style>\n",
       "    .dataframe thead tr:only-child th {\n",
       "        text-align: right;\n",
       "    }\n",
       "\n",
       "    .dataframe thead th {\n",
       "        text-align: left;\n",
       "    }\n",
       "\n",
       "    .dataframe tbody tr th {\n",
       "        vertical-align: top;\n",
       "    }\n",
       "</style>\n",
       "<table border=\"1\" class=\"dataframe\">\n",
       "  <thead>\n",
       "    <tr style=\"text-align: right;\">\n",
       "      <th></th>\n",
       "      <th>driver_id</th>\n",
       "      <th>#_rides</th>\n",
       "      <th>driver_onboard_date</th>\n",
       "      <th>last_date</th>\n",
       "      <th>total_duration_seconds</th>\n",
       "      <th>total_revenue_$</th>\n",
       "      <th>total_distance_miles</th>\n",
       "    </tr>\n",
       "  </thead>\n",
       "  <tbody>\n",
       "    <tr>\n",
       "      <th>0</th>\n",
       "      <td>002be0ffdc997bd5c50703158b7c2491</td>\n",
       "      <td>277</td>\n",
       "      <td>2016-03-29</td>\n",
       "      <td>2016-06-23 10:06:26</td>\n",
       "      <td>221238.0</td>\n",
       "      <td>2972.865269</td>\n",
       "      <td>1081.363873</td>\n",
       "    </tr>\n",
       "    <tr>\n",
       "      <th>1</th>\n",
       "      <td>007f0389f9c7b03ef97098422f902e62</td>\n",
       "      <td>31</td>\n",
       "      <td>2016-03-29</td>\n",
       "      <td>2016-06-22 13:17:40</td>\n",
       "      <td>20497.0</td>\n",
       "      <td>259.342110</td>\n",
       "      <td>73.030355</td>\n",
       "    </tr>\n",
       "    <tr>\n",
       "      <th>2</th>\n",
       "      <td>011e5c5dfc5c2c92501b8b24d47509bc</td>\n",
       "      <td>34</td>\n",
       "      <td>2016-04-05</td>\n",
       "      <td>2016-06-12 20:22:22</td>\n",
       "      <td>29205.0</td>\n",
       "      <td>409.640711</td>\n",
       "      <td>167.554554</td>\n",
       "    </tr>\n",
       "    <tr>\n",
       "      <th>3</th>\n",
       "      <td>0152a2f305e71d26cc964f8d4411add9</td>\n",
       "      <td>191</td>\n",
       "      <td>2016-04-23</td>\n",
       "      <td>2016-06-26 10:16:37</td>\n",
       "      <td>174521.0</td>\n",
       "      <td>2156.859654</td>\n",
       "      <td>914.185249</td>\n",
       "    </tr>\n",
       "    <tr>\n",
       "      <th>4</th>\n",
       "      <td>01674381af7edd264113d4e6ed55ecda</td>\n",
       "      <td>375</td>\n",
       "      <td>2016-04-29</td>\n",
       "      <td>2016-06-24 13:03:37</td>\n",
       "      <td>357443.0</td>\n",
       "      <td>4472.513069</td>\n",
       "      <td>1940.941796</td>\n",
       "    </tr>\n",
       "  </tbody>\n",
       "</table>\n",
       "</div>"
      ],
      "text/plain": [
       "                          driver_id  #_rides driver_onboard_date  \\\n",
       "0  002be0ffdc997bd5c50703158b7c2491      277          2016-03-29   \n",
       "1  007f0389f9c7b03ef97098422f902e62       31          2016-03-29   \n",
       "2  011e5c5dfc5c2c92501b8b24d47509bc       34          2016-04-05   \n",
       "3  0152a2f305e71d26cc964f8d4411add9      191          2016-04-23   \n",
       "4  01674381af7edd264113d4e6ed55ecda      375          2016-04-29   \n",
       "\n",
       "            last_date  total_duration_seconds  total_revenue_$  \\\n",
       "0 2016-06-23 10:06:26                221238.0      2972.865269   \n",
       "1 2016-06-22 13:17:40                 20497.0       259.342110   \n",
       "2 2016-06-12 20:22:22                 29205.0       409.640711   \n",
       "3 2016-06-26 10:16:37                174521.0      2156.859654   \n",
       "4 2016-06-24 13:03:37                357443.0      4472.513069   \n",
       "\n",
       "   total_distance_miles  \n",
       "0           1081.363873  \n",
       "1             73.030355  \n",
       "2            167.554554  \n",
       "3            914.185249  \n",
       "4           1940.941796  "
      ]
     },
     "execution_count": 234,
     "metadata": {},
     "output_type": "execute_result"
    }
   ],
   "source": [
    "# Drivers contain information per driver\n",
    "# drivers doesn t contain the 83 drivers because it \n",
    "# uses a group by on rides\n",
    "\n",
    "drivers = rides.groupby('driver_id', as_index=False).agg({\n",
    "                                            'ride_id': lambda x: x.count(),\n",
    "                                            'driver_onboard_date': lambda x: pd.to_datetime(x.iloc[0]),\n",
    "                                            'timestamp': lambda x: pd.to_datetime(x.max()),\n",
    "                                            'total_revenue_$': lambda x: x.sum(),\n",
    "                                            'ride_distance_miles': lambda x: x.sum(),\n",
    "                                            'ride_duration': lambda x: x.sum(),\n",
    "                                            }).rename(columns={\n",
    "                                                                'ride_id': '#_rides',\n",
    "                                                                'timestamp': 'last_date',\n",
    "                                                                'ride_distance_miles': 'total_distance_miles',\n",
    "                                                                'ride_duration':'total_duration_seconds'          \n",
    "                                                })\n",
    "drivers.head()"
   ]
  },
  {
   "cell_type": "code",
   "execution_count": 235,
   "metadata": {
    "collapsed": false
   },
   "outputs": [],
   "source": [
    "# Those are the drivers who joined Lyft but never completed a ride\n",
    "\n",
    "inexistant_rides = combined_df_driver_id_ride_id_ride_timestamp.loc[combined_df_driver_id_ride_id_ride_timestamp['ride_id'].isnull()]\n",
    "never_activated_drivers = inexistant_rides.groupby('driver_id', as_index=False).agg({\n",
    "                                                            'ride_id': lambda x: x.count(),\n",
    "                                                            'driver_onboard_date': lambda x: pd.to_datetime(x.iloc[0]),\n",
    "                                                            'total_revenue_$': lambda x: 0,\n",
    "                                                            'ride_distance_miles': lambda x: 0,\n",
    "                                                            'ride_duration': lambda x: 0,\n",
    "                                            }).rename(columns={\n",
    "                                                                'ride_id': '#_rides',\n",
    "                                                                'ride_distance_miles': 'total_distance_miles',\n",
    "                                                                'ride_duration':'total_duration_seconds'          \n",
    "                                                })\n",
    "\n",
    "never_activated_drivers['last_date']=never_activated_drivers['driver_onboard_date']"
   ]
  },
  {
   "cell_type": "code",
   "execution_count": 236,
   "metadata": {
    "collapsed": false
   },
   "outputs": [],
   "source": [
    "# We add those 81 drivers to the driver table \n",
    "\n",
    "drivers = pd.concat([drivers, never_activated_drivers])"
   ]
  },
  {
   "cell_type": "code",
   "execution_count": 237,
   "metadata": {
    "collapsed": false
   },
   "outputs": [],
   "source": [
    "drivers['total_#_days']=(drivers['last_date']-drivers['driver_onboard_date']+timedelta(days=1)).dt.days\n",
    "drivers['rides_per_day'] =drivers['#_rides']/drivers['total_#_days']\n",
    "drivers['rides_per_day'].loc[drivers['rides_per_day'].isnull()]=0"
   ]
  },
  {
   "cell_type": "code",
   "execution_count": 238,
   "metadata": {
    "collapsed": false
   },
   "outputs": [
    {
     "data": {
      "text/html": [
       "<div>\n",
       "<style>\n",
       "    .dataframe thead tr:only-child th {\n",
       "        text-align: right;\n",
       "    }\n",
       "\n",
       "    .dataframe thead th {\n",
       "        text-align: left;\n",
       "    }\n",
       "\n",
       "    .dataframe tbody tr th {\n",
       "        vertical-align: top;\n",
       "    }\n",
       "</style>\n",
       "<table border=\"1\" class=\"dataframe\">\n",
       "  <thead>\n",
       "    <tr style=\"text-align: right;\">\n",
       "      <th></th>\n",
       "      <th>#_rides</th>\n",
       "      <th>driver_id</th>\n",
       "      <th>driver_onboard_date</th>\n",
       "      <th>last_date</th>\n",
       "      <th>total_distance_miles</th>\n",
       "      <th>total_duration_seconds</th>\n",
       "      <th>total_revenue_$</th>\n",
       "      <th>total_#_days</th>\n",
       "      <th>rides_per_day</th>\n",
       "    </tr>\n",
       "  </thead>\n",
       "  <tbody>\n",
       "    <tr>\n",
       "      <th>0</th>\n",
       "      <td>277</td>\n",
       "      <td>002be0ffdc997bd5c50703158b7c2491</td>\n",
       "      <td>2016-03-29</td>\n",
       "      <td>2016-06-23 10:06:26</td>\n",
       "      <td>1081.363873</td>\n",
       "      <td>221238.0</td>\n",
       "      <td>2972.865269</td>\n",
       "      <td>87</td>\n",
       "      <td>3.183908</td>\n",
       "    </tr>\n",
       "    <tr>\n",
       "      <th>1</th>\n",
       "      <td>31</td>\n",
       "      <td>007f0389f9c7b03ef97098422f902e62</td>\n",
       "      <td>2016-03-29</td>\n",
       "      <td>2016-06-22 13:17:40</td>\n",
       "      <td>73.030355</td>\n",
       "      <td>20497.0</td>\n",
       "      <td>259.342110</td>\n",
       "      <td>86</td>\n",
       "      <td>0.360465</td>\n",
       "    </tr>\n",
       "    <tr>\n",
       "      <th>2</th>\n",
       "      <td>34</td>\n",
       "      <td>011e5c5dfc5c2c92501b8b24d47509bc</td>\n",
       "      <td>2016-04-05</td>\n",
       "      <td>2016-06-12 20:22:22</td>\n",
       "      <td>167.554554</td>\n",
       "      <td>29205.0</td>\n",
       "      <td>409.640711</td>\n",
       "      <td>69</td>\n",
       "      <td>0.492754</td>\n",
       "    </tr>\n",
       "    <tr>\n",
       "      <th>3</th>\n",
       "      <td>191</td>\n",
       "      <td>0152a2f305e71d26cc964f8d4411add9</td>\n",
       "      <td>2016-04-23</td>\n",
       "      <td>2016-06-26 10:16:37</td>\n",
       "      <td>914.185249</td>\n",
       "      <td>174521.0</td>\n",
       "      <td>2156.859654</td>\n",
       "      <td>65</td>\n",
       "      <td>2.938462</td>\n",
       "    </tr>\n",
       "    <tr>\n",
       "      <th>4</th>\n",
       "      <td>375</td>\n",
       "      <td>01674381af7edd264113d4e6ed55ecda</td>\n",
       "      <td>2016-04-29</td>\n",
       "      <td>2016-06-24 13:03:37</td>\n",
       "      <td>1940.941796</td>\n",
       "      <td>357443.0</td>\n",
       "      <td>4472.513069</td>\n",
       "      <td>57</td>\n",
       "      <td>6.578947</td>\n",
       "    </tr>\n",
       "  </tbody>\n",
       "</table>\n",
       "</div>"
      ],
      "text/plain": [
       "   #_rides                         driver_id driver_onboard_date  \\\n",
       "0      277  002be0ffdc997bd5c50703158b7c2491          2016-03-29   \n",
       "1       31  007f0389f9c7b03ef97098422f902e62          2016-03-29   \n",
       "2       34  011e5c5dfc5c2c92501b8b24d47509bc          2016-04-05   \n",
       "3      191  0152a2f305e71d26cc964f8d4411add9          2016-04-23   \n",
       "4      375  01674381af7edd264113d4e6ed55ecda          2016-04-29   \n",
       "\n",
       "            last_date  total_distance_miles  total_duration_seconds  \\\n",
       "0 2016-06-23 10:06:26           1081.363873                221238.0   \n",
       "1 2016-06-22 13:17:40             73.030355                 20497.0   \n",
       "2 2016-06-12 20:22:22            167.554554                 29205.0   \n",
       "3 2016-06-26 10:16:37            914.185249                174521.0   \n",
       "4 2016-06-24 13:03:37           1940.941796                357443.0   \n",
       "\n",
       "   total_revenue_$  total_#_days  rides_per_day  \n",
       "0      2972.865269            87       3.183908  \n",
       "1       259.342110            86       0.360465  \n",
       "2       409.640711            69       0.492754  \n",
       "3      2156.859654            65       2.938462  \n",
       "4      4472.513069            57       6.578947  "
      ]
     },
     "execution_count": 238,
     "metadata": {},
     "output_type": "execute_result"
    }
   ],
   "source": [
    "drivers.head()"
   ]
  },
  {
   "cell_type": "markdown",
   "metadata": {},
   "source": [
    "# --------------------------------------------------------------"
   ]
  },
  {
   "cell_type": "markdown",
   "metadata": {},
   "source": [
    "# Part C: Exploratory Data Analysis"
   ]
  },
  {
   "cell_type": "markdown",
   "metadata": {},
   "source": [
    "## Few insights can be highlighted from the dataset exploration:\n",
    "\n",
    "    1)The driver behavior varies SIGNIFICANTLY across drivers.\n",
    "      The number of rides per drivers is a perfect example.\n",
    "    \n",
    "    2) The average retention per driver is highly corrolated to the revenue of the driver\n",
    "       during the previous month."
   ]
  },
  {
   "cell_type": "markdown",
   "metadata": {},
   "source": [
    "#### 1st insight"
   ]
  },
  {
   "cell_type": "code",
   "execution_count": 239,
   "metadata": {
    "collapsed": false
   },
   "outputs": [
    {
     "data": {
      "text/html": [
       "<div>\n",
       "<style>\n",
       "    .dataframe thead tr:only-child th {\n",
       "        text-align: right;\n",
       "    }\n",
       "\n",
       "    .dataframe thead th {\n",
       "        text-align: left;\n",
       "    }\n",
       "\n",
       "    .dataframe tbody tr th {\n",
       "        vertical-align: top;\n",
       "    }\n",
       "</style>\n",
       "<table border=\"1\" class=\"dataframe\">\n",
       "  <thead>\n",
       "    <tr style=\"text-align: right;\">\n",
       "      <th></th>\n",
       "      <th>#_rides</th>\n",
       "      <th>total_distance_miles</th>\n",
       "      <th>total_duration_seconds</th>\n",
       "      <th>total_revenue_$</th>\n",
       "      <th>total_#_days</th>\n",
       "      <th>rides_per_day</th>\n",
       "    </tr>\n",
       "  </thead>\n",
       "  <tbody>\n",
       "    <tr>\n",
       "      <th>count</th>\n",
       "      <td>920.000000</td>\n",
       "      <td>920.000000</td>\n",
       "      <td>920.000000</td>\n",
       "      <td>920.000000</td>\n",
       "      <td>920.000000</td>\n",
       "      <td>920.000000</td>\n",
       "    </tr>\n",
       "    <tr>\n",
       "      <th>mean</th>\n",
       "      <td>200.226087</td>\n",
       "      <td>864.086193</td>\n",
       "      <td>172168.875000</td>\n",
       "      <td>2251.197105</td>\n",
       "      <td>51.106522</td>\n",
       "      <td>3.501432</td>\n",
       "    </tr>\n",
       "    <tr>\n",
       "      <th>std</th>\n",
       "      <td>181.276255</td>\n",
       "      <td>794.781899</td>\n",
       "      <td>156587.105895</td>\n",
       "      <td>2042.706452</td>\n",
       "      <td>26.047365</td>\n",
       "      <td>2.861186</td>\n",
       "    </tr>\n",
       "    <tr>\n",
       "      <th>min</th>\n",
       "      <td>0.000000</td>\n",
       "      <td>0.000000</td>\n",
       "      <td>0.000000</td>\n",
       "      <td>0.000000</td>\n",
       "      <td>1.000000</td>\n",
       "      <td>0.000000</td>\n",
       "    </tr>\n",
       "    <tr>\n",
       "      <th>25%</th>\n",
       "      <td>39.000000</td>\n",
       "      <td>161.559412</td>\n",
       "      <td>32529.000000</td>\n",
       "      <td>423.181004</td>\n",
       "      <td>34.000000</td>\n",
       "      <td>0.968750</td>\n",
       "    </tr>\n",
       "    <tr>\n",
       "      <th>50%</th>\n",
       "      <td>205.000000</td>\n",
       "      <td>786.530790</td>\n",
       "      <td>171141.500000</td>\n",
       "      <td>2183.098253</td>\n",
       "      <td>56.000000</td>\n",
       "      <td>3.180639</td>\n",
       "    </tr>\n",
       "    <tr>\n",
       "      <th>75%</th>\n",
       "      <td>318.000000</td>\n",
       "      <td>1365.818041</td>\n",
       "      <td>271704.750000</td>\n",
       "      <td>3587.052519</td>\n",
       "      <td>72.000000</td>\n",
       "      <td>5.268012</td>\n",
       "    </tr>\n",
       "    <tr>\n",
       "      <th>max</th>\n",
       "      <td>919.000000</td>\n",
       "      <td>4118.571884</td>\n",
       "      <td>779797.000000</td>\n",
       "      <td>10413.867070</td>\n",
       "      <td>91.000000</td>\n",
       "      <td>17.500000</td>\n",
       "    </tr>\n",
       "  </tbody>\n",
       "</table>\n",
       "</div>"
      ],
      "text/plain": [
       "          #_rides  total_distance_miles  total_duration_seconds  \\\n",
       "count  920.000000            920.000000              920.000000   \n",
       "mean   200.226087            864.086193           172168.875000   \n",
       "std    181.276255            794.781899           156587.105895   \n",
       "min      0.000000              0.000000                0.000000   \n",
       "25%     39.000000            161.559412            32529.000000   \n",
       "50%    205.000000            786.530790           171141.500000   \n",
       "75%    318.000000           1365.818041           271704.750000   \n",
       "max    919.000000           4118.571884           779797.000000   \n",
       "\n",
       "       total_revenue_$  total_#_days  rides_per_day  \n",
       "count       920.000000    920.000000     920.000000  \n",
       "mean       2251.197105     51.106522       3.501432  \n",
       "std        2042.706452     26.047365       2.861186  \n",
       "min           0.000000      1.000000       0.000000  \n",
       "25%         423.181004     34.000000       0.968750  \n",
       "50%        2183.098253     56.000000       3.180639  \n",
       "75%        3587.052519     72.000000       5.268012  \n",
       "max       10413.867070     91.000000      17.500000  "
      ]
     },
     "execution_count": 239,
     "metadata": {},
     "output_type": "execute_result"
    }
   ],
   "source": [
    "drivers.describe()"
   ]
  },
  {
   "cell_type": "code",
   "execution_count": 267,
   "metadata": {
    "collapsed": false
   },
   "outputs": [
    {
     "data": {
      "image/png": "[encoded data removed]",
      "text/plain": [
       "<matplotlib.figure.Figure at 0x118665610>"
      ]
     },
     "metadata": {},
     "output_type": "display_data"
    }
   ],
   "source": [
    "ndrivers = len(drivers['driver_id'])\n",
    "drivers.hist(column='rides_per_day', bins=36, figsize=(20,8), weights=np.ones(ndrivers)*100.0/ndrivers)\n",
    "plt.xlabel(\"number of rides per day\")\n",
    "plt.ylabel(\"% of drivers\")\n",
    "plt.title(\"The percentage of drivers VS number of rides per day\")\n",
    "plt.savefig('#_rides_day.png')\n",
    "plt.show()\n"
   ]
  },
  {
   "cell_type": "code",
   "execution_count": 241,
   "metadata": {
    "collapsed": false
   },
   "outputs": [],
   "source": [
    "#drivers.sort_values('rides_per_day', ascending = False)"
   ]
  },
  {
   "cell_type": "markdown",
   "metadata": {},
   "source": [
    "#### 2ND insight: "
   ]
  },
  {
   "cell_type": "code",
   "execution_count": 242,
   "metadata": {
    "collapsed": true
   },
   "outputs": [],
   "source": [
    "# Here, we need at least 56 days of data to \n",
    "# correlate churn with revenue in the first 28 days\n",
    "# Churner: driver who didn t complete any ride during 28 days\n",
    "\n",
    "rides_at_least_56_days_data = rides[pd.to_datetime(rides['driver_onboard_date']) <= \n",
    "                                    pd.to_datetime('2016-05-02 00:00:00') ]"
   ]
  },
  {
   "cell_type": "code",
   "execution_count": 243,
   "metadata": {
    "collapsed": false
   },
   "outputs": [
    {
     "data": {
      "text/html": [
       "<div>\n",
       "<style>\n",
       "    .dataframe thead tr:only-child th {\n",
       "        text-align: right;\n",
       "    }\n",
       "\n",
       "    .dataframe thead th {\n",
       "        text-align: left;\n",
       "    }\n",
       "\n",
       "    .dataframe tbody tr th {\n",
       "        vertical-align: top;\n",
       "    }\n",
       "</style>\n",
       "<table border=\"1\" class=\"dataframe\">\n",
       "  <thead>\n",
       "    <tr style=\"text-align: right;\">\n",
       "      <th></th>\n",
       "      <th>ride_id</th>\n",
       "      <th>driver_id</th>\n",
       "      <th>ride_duration</th>\n",
       "      <th>ride_distance</th>\n",
       "      <th>driver_onboard_date</th>\n",
       "      <th>ride_distance_miles</th>\n",
       "      <th>timestamp</th>\n",
       "      <th>ride_duration_minutes</th>\n",
       "      <th>ride_prime_time</th>\n",
       "      <th>total_revenue_$</th>\n",
       "    </tr>\n",
       "  </thead>\n",
       "  <tbody>\n",
       "    <tr>\n",
       "      <th>1</th>\n",
       "      <td>00005eae40882760d675da5effb89ae3</td>\n",
       "      <td>0656192a402808805282e60761bda088</td>\n",
       "      <td>479.0</td>\n",
       "      <td>3016.0</td>\n",
       "      <td>2016-04-30 00:00:00</td>\n",
       "      <td>1.874055</td>\n",
       "      <td>2016-05-14 05:23:21</td>\n",
       "      <td>7.0</td>\n",
       "      <td>25.0</td>\n",
       "      <td>7.896819</td>\n",
       "    </tr>\n",
       "    <tr>\n",
       "      <th>10</th>\n",
       "      <td>000290b418595bfe228d2bf4d4e331df</td>\n",
       "      <td>4aa585f63fbe04dcded4019662cc47f8</td>\n",
       "      <td>852.0</td>\n",
       "      <td>3019.0</td>\n",
       "      <td>2016-04-17 00:00:00</td>\n",
       "      <td>1.875919</td>\n",
       "      <td>2016-04-30 23:30:19</td>\n",
       "      <td>14.0</td>\n",
       "      <td>0.0</td>\n",
       "      <td>6.320009</td>\n",
       "    </tr>\n",
       "    <tr>\n",
       "      <th>16</th>\n",
       "      <td>0003bd8128cced32fcb88aa3805b0a72</td>\n",
       "      <td>8dc9d28aa6ab0af5dcc98420a9bd65e0</td>\n",
       "      <td>1291.0</td>\n",
       "      <td>6970.0</td>\n",
       "      <td>2016-04-23 00:00:00</td>\n",
       "      <td>4.330956</td>\n",
       "      <td>2016-04-26 21:21:21</td>\n",
       "      <td>21.0</td>\n",
       "      <td>25.0</td>\n",
       "      <td>12.104262</td>\n",
       "    </tr>\n",
       "    <tr>\n",
       "      <th>18</th>\n",
       "      <td>00046fb60349e54c9845d667d7c897fd</td>\n",
       "      <td>39a7bc235caf53556b15dd28ab5a7157</td>\n",
       "      <td>490.0</td>\n",
       "      <td>2314.0</td>\n",
       "      <td>2016-05-02 00:00:00</td>\n",
       "      <td>1.437852</td>\n",
       "      <td>2016-05-08 01:59:20</td>\n",
       "      <td>8.0</td>\n",
       "      <td>100.0</td>\n",
       "      <td>11.439716</td>\n",
       "    </tr>\n",
       "    <tr>\n",
       "      <th>22</th>\n",
       "      <td>000527ec3aa73cc922d8a4858edf9c06</td>\n",
       "      <td>a6fe0a06612bc9d9fd3f7dc1fd9615f0</td>\n",
       "      <td>527.0</td>\n",
       "      <td>5796.0</td>\n",
       "      <td>2016-04-11 00:00:00</td>\n",
       "      <td>3.601466</td>\n",
       "      <td>2016-04-13 22:55:05</td>\n",
       "      <td>8.0</td>\n",
       "      <td>0.0</td>\n",
       "      <td>8.684009</td>\n",
       "    </tr>\n",
       "  </tbody>\n",
       "</table>\n",
       "</div>"
      ],
      "text/plain": [
       "                             ride_id                         driver_id  \\\n",
       "1   00005eae40882760d675da5effb89ae3  0656192a402808805282e60761bda088   \n",
       "10  000290b418595bfe228d2bf4d4e331df  4aa585f63fbe04dcded4019662cc47f8   \n",
       "16  0003bd8128cced32fcb88aa3805b0a72  8dc9d28aa6ab0af5dcc98420a9bd65e0   \n",
       "18  00046fb60349e54c9845d667d7c897fd  39a7bc235caf53556b15dd28ab5a7157   \n",
       "22  000527ec3aa73cc922d8a4858edf9c06  a6fe0a06612bc9d9fd3f7dc1fd9615f0   \n",
       "\n",
       "    ride_duration  ride_distance  driver_onboard_date  ride_distance_miles  \\\n",
       "1           479.0         3016.0  2016-04-30 00:00:00             1.874055   \n",
       "10          852.0         3019.0  2016-04-17 00:00:00             1.875919   \n",
       "16         1291.0         6970.0  2016-04-23 00:00:00             4.330956   \n",
       "18          490.0         2314.0  2016-05-02 00:00:00             1.437852   \n",
       "22          527.0         5796.0  2016-04-11 00:00:00             3.601466   \n",
       "\n",
       "              timestamp  ride_duration_minutes  ride_prime_time  \\\n",
       "1   2016-05-14 05:23:21                    7.0             25.0   \n",
       "10  2016-04-30 23:30:19                   14.0              0.0   \n",
       "16  2016-04-26 21:21:21                   21.0             25.0   \n",
       "18  2016-05-08 01:59:20                    8.0            100.0   \n",
       "22  2016-04-13 22:55:05                    8.0              0.0   \n",
       "\n",
       "    total_revenue_$  \n",
       "1          7.896819  \n",
       "10         6.320009  \n",
       "16        12.104262  \n",
       "18        11.439716  \n",
       "22         8.684009  "
      ]
     },
     "execution_count": 243,
     "metadata": {},
     "output_type": "execute_result"
    }
   ],
   "source": [
    "# All the rides during the first 28 periods\n",
    "\n",
    "rides_first_28_period = rides_at_least_56_days_data[(pd.to_datetime(rides_at_least_56_days_data['timestamp']) <\n",
    "                                                    pd.to_datetime(rides_at_least_56_days_data['driver_onboard_date']) + timedelta(days=28))]\n",
    "rides_first_28_period.head()"
   ]
  },
  {
   "cell_type": "code",
   "execution_count": 244,
   "metadata": {
    "collapsed": false
   },
   "outputs": [
    {
     "data": {
      "text/html": [
       "<div>\n",
       "<style>\n",
       "    .dataframe thead tr:only-child th {\n",
       "        text-align: right;\n",
       "    }\n",
       "\n",
       "    .dataframe thead th {\n",
       "        text-align: left;\n",
       "    }\n",
       "\n",
       "    .dataframe tbody tr th {\n",
       "        vertical-align: top;\n",
       "    }\n",
       "</style>\n",
       "<table border=\"1\" class=\"dataframe\">\n",
       "  <thead>\n",
       "    <tr style=\"text-align: right;\">\n",
       "      <th></th>\n",
       "      <th>ride_id</th>\n",
       "      <th>driver_id</th>\n",
       "      <th>ride_duration</th>\n",
       "      <th>ride_distance</th>\n",
       "      <th>driver_onboard_date</th>\n",
       "      <th>ride_distance_miles</th>\n",
       "      <th>timestamp</th>\n",
       "      <th>ride_duration_minutes</th>\n",
       "      <th>ride_prime_time</th>\n",
       "      <th>total_revenue_$</th>\n",
       "    </tr>\n",
       "  </thead>\n",
       "  <tbody>\n",
       "    <tr>\n",
       "      <th>1</th>\n",
       "      <td>00005eae40882760d675da5effb89ae3</td>\n",
       "      <td>0656192a402808805282e60761bda088</td>\n",
       "      <td>479.0</td>\n",
       "      <td>3016.0</td>\n",
       "      <td>2016-04-30 00:00:00</td>\n",
       "      <td>1.874055</td>\n",
       "      <td>2016-05-14 05:23:21</td>\n",
       "      <td>7.0</td>\n",
       "      <td>25.0</td>\n",
       "      <td>7.896819</td>\n",
       "    </tr>\n",
       "    <tr>\n",
       "      <th>10</th>\n",
       "      <td>000290b418595bfe228d2bf4d4e331df</td>\n",
       "      <td>4aa585f63fbe04dcded4019662cc47f8</td>\n",
       "      <td>852.0</td>\n",
       "      <td>3019.0</td>\n",
       "      <td>2016-04-17 00:00:00</td>\n",
       "      <td>1.875919</td>\n",
       "      <td>2016-04-30 23:30:19</td>\n",
       "      <td>14.0</td>\n",
       "      <td>0.0</td>\n",
       "      <td>6.320009</td>\n",
       "    </tr>\n",
       "    <tr>\n",
       "      <th>16</th>\n",
       "      <td>0003bd8128cced32fcb88aa3805b0a72</td>\n",
       "      <td>8dc9d28aa6ab0af5dcc98420a9bd65e0</td>\n",
       "      <td>1291.0</td>\n",
       "      <td>6970.0</td>\n",
       "      <td>2016-04-23 00:00:00</td>\n",
       "      <td>4.330956</td>\n",
       "      <td>2016-04-26 21:21:21</td>\n",
       "      <td>21.0</td>\n",
       "      <td>25.0</td>\n",
       "      <td>12.104262</td>\n",
       "    </tr>\n",
       "    <tr>\n",
       "      <th>18</th>\n",
       "      <td>00046fb60349e54c9845d667d7c897fd</td>\n",
       "      <td>39a7bc235caf53556b15dd28ab5a7157</td>\n",
       "      <td>490.0</td>\n",
       "      <td>2314.0</td>\n",
       "      <td>2016-05-02 00:00:00</td>\n",
       "      <td>1.437852</td>\n",
       "      <td>2016-05-08 01:59:20</td>\n",
       "      <td>8.0</td>\n",
       "      <td>100.0</td>\n",
       "      <td>11.439716</td>\n",
       "    </tr>\n",
       "    <tr>\n",
       "      <th>22</th>\n",
       "      <td>000527ec3aa73cc922d8a4858edf9c06</td>\n",
       "      <td>a6fe0a06612bc9d9fd3f7dc1fd9615f0</td>\n",
       "      <td>527.0</td>\n",
       "      <td>5796.0</td>\n",
       "      <td>2016-04-11 00:00:00</td>\n",
       "      <td>3.601466</td>\n",
       "      <td>2016-04-13 22:55:05</td>\n",
       "      <td>8.0</td>\n",
       "      <td>0.0</td>\n",
       "      <td>8.684009</td>\n",
       "    </tr>\n",
       "  </tbody>\n",
       "</table>\n",
       "</div>"
      ],
      "text/plain": [
       "                             ride_id                         driver_id  \\\n",
       "1   00005eae40882760d675da5effb89ae3  0656192a402808805282e60761bda088   \n",
       "10  000290b418595bfe228d2bf4d4e331df  4aa585f63fbe04dcded4019662cc47f8   \n",
       "16  0003bd8128cced32fcb88aa3805b0a72  8dc9d28aa6ab0af5dcc98420a9bd65e0   \n",
       "18  00046fb60349e54c9845d667d7c897fd  39a7bc235caf53556b15dd28ab5a7157   \n",
       "22  000527ec3aa73cc922d8a4858edf9c06  a6fe0a06612bc9d9fd3f7dc1fd9615f0   \n",
       "\n",
       "    ride_duration  ride_distance  driver_onboard_date  ride_distance_miles  \\\n",
       "1           479.0         3016.0  2016-04-30 00:00:00             1.874055   \n",
       "10          852.0         3019.0  2016-04-17 00:00:00             1.875919   \n",
       "16         1291.0         6970.0  2016-04-23 00:00:00             4.330956   \n",
       "18          490.0         2314.0  2016-05-02 00:00:00             1.437852   \n",
       "22          527.0         5796.0  2016-04-11 00:00:00             3.601466   \n",
       "\n",
       "              timestamp  ride_duration_minutes  ride_prime_time  \\\n",
       "1   2016-05-14 05:23:21                    7.0             25.0   \n",
       "10  2016-04-30 23:30:19                   14.0              0.0   \n",
       "16  2016-04-26 21:21:21                   21.0             25.0   \n",
       "18  2016-05-08 01:59:20                    8.0            100.0   \n",
       "22  2016-04-13 22:55:05                    8.0              0.0   \n",
       "\n",
       "    total_revenue_$  \n",
       "1          7.896819  \n",
       "10         6.320009  \n",
       "16        12.104262  \n",
       "18        11.439716  \n",
       "22         8.684009  "
      ]
     },
     "execution_count": 244,
     "metadata": {},
     "output_type": "execute_result"
    }
   ],
   "source": [
    "rides_second_28_period = rides_at_least_56_days_data[(pd.to_datetime(rides_at_least_56_days_data['timestamp']) >=\n",
    "                                                      pd.to_datetime(rides_at_least_56_days_data['driver_onboard_date']) + timedelta(days=28))&\n",
    "                                                     (pd.to_datetime(rides_at_least_56_days_data['timestamp']) <\n",
    "                                                      pd.to_datetime(rides_at_least_56_days_data['driver_onboard_date']) + timedelta(days=56))]\n",
    "                                                      \n",
    "                                                      \n",
    "rides_first_28_period.head()     "
   ]
  },
  {
   "cell_type": "code",
   "execution_count": 245,
   "metadata": {
    "collapsed": false
   },
   "outputs": [
    {
     "data": {
      "text/html": [
       "<div>\n",
       "<style>\n",
       "    .dataframe thead tr:only-child th {\n",
       "        text-align: right;\n",
       "    }\n",
       "\n",
       "    .dataframe thead th {\n",
       "        text-align: left;\n",
       "    }\n",
       "\n",
       "    .dataframe tbody tr th {\n",
       "        vertical-align: top;\n",
       "    }\n",
       "</style>\n",
       "<table border=\"1\" class=\"dataframe\">\n",
       "  <thead>\n",
       "    <tr style=\"text-align: right;\">\n",
       "      <th></th>\n",
       "      <th>driver_id</th>\n",
       "      <th>#_rides</th>\n",
       "      <th>total_duration_seconds</th>\n",
       "      <th>first_28_days_revenue_$</th>\n",
       "      <th>driver_onboard_date</th>\n",
       "      <th>total_distance_miles</th>\n",
       "      <th>#_active_days</th>\n",
       "      <th>%_prime_time</th>\n",
       "    </tr>\n",
       "  </thead>\n",
       "  <tbody>\n",
       "    <tr>\n",
       "      <th>0</th>\n",
       "      <td>002be0ffdc997bd5c50703158b7c2491</td>\n",
       "      <td>109</td>\n",
       "      <td>78271.0</td>\n",
       "      <td>1090.035053</td>\n",
       "      <td>2016-03-29</td>\n",
       "      <td>386.305108</td>\n",
       "      <td>21</td>\n",
       "      <td>0.376147</td>\n",
       "    </tr>\n",
       "    <tr>\n",
       "      <th>1</th>\n",
       "      <td>007f0389f9c7b03ef97098422f902e62</td>\n",
       "      <td>7</td>\n",
       "      <td>5471.0</td>\n",
       "      <td>67.431463</td>\n",
       "      <td>2016-03-29</td>\n",
       "      <td>18.624974</td>\n",
       "      <td>3</td>\n",
       "      <td>0.428571</td>\n",
       "    </tr>\n",
       "    <tr>\n",
       "      <th>2</th>\n",
       "      <td>011e5c5dfc5c2c92501b8b24d47509bc</td>\n",
       "      <td>12</td>\n",
       "      <td>9929.0</td>\n",
       "      <td>144.589610</td>\n",
       "      <td>2016-04-05</td>\n",
       "      <td>58.779211</td>\n",
       "      <td>5</td>\n",
       "      <td>0.416667</td>\n",
       "    </tr>\n",
       "    <tr>\n",
       "      <th>3</th>\n",
       "      <td>0152a2f305e71d26cc964f8d4411add9</td>\n",
       "      <td>56</td>\n",
       "      <td>46599.0</td>\n",
       "      <td>626.121248</td>\n",
       "      <td>2016-04-23</td>\n",
       "      <td>264.131763</td>\n",
       "      <td>15</td>\n",
       "      <td>0.214286</td>\n",
       "    </tr>\n",
       "    <tr>\n",
       "      <th>4</th>\n",
       "      <td>01674381af7edd264113d4e6ed55ecda</td>\n",
       "      <td>176</td>\n",
       "      <td>165773.0</td>\n",
       "      <td>2045.983642</td>\n",
       "      <td>2016-04-29</td>\n",
       "      <td>878.087322</td>\n",
       "      <td>20</td>\n",
       "      <td>0.261364</td>\n",
       "    </tr>\n",
       "  </tbody>\n",
       "</table>\n",
       "</div>"
      ],
      "text/plain": [
       "                          driver_id  #_rides  total_duration_seconds  \\\n",
       "0  002be0ffdc997bd5c50703158b7c2491      109                 78271.0   \n",
       "1  007f0389f9c7b03ef97098422f902e62        7                  5471.0   \n",
       "2  011e5c5dfc5c2c92501b8b24d47509bc       12                  9929.0   \n",
       "3  0152a2f305e71d26cc964f8d4411add9       56                 46599.0   \n",
       "4  01674381af7edd264113d4e6ed55ecda      176                165773.0   \n",
       "\n",
       "   first_28_days_revenue_$ driver_onboard_date  total_distance_miles  \\\n",
       "0              1090.035053          2016-03-29            386.305108   \n",
       "1                67.431463          2016-03-29             18.624974   \n",
       "2               144.589610          2016-04-05             58.779211   \n",
       "3               626.121248          2016-04-23            264.131763   \n",
       "4              2045.983642          2016-04-29            878.087322   \n",
       "\n",
       "   #_active_days  %_prime_time  \n",
       "0             21      0.376147  \n",
       "1              3      0.428571  \n",
       "2              5      0.416667  \n",
       "3             15      0.214286  \n",
       "4             20      0.261364  "
      ]
     },
     "execution_count": 245,
     "metadata": {},
     "output_type": "execute_result"
    }
   ],
   "source": [
    "# 1ST Period of 28 days\n",
    "\n",
    "drivers_first_28_period = rides_first_28_period.groupby('driver_id', as_index=False).agg({\n",
    "                                            'ride_id': lambda x: x.count(),\n",
    "                                            'driver_onboard_date': lambda x: pd.to_datetime(x.iloc[0]),\n",
    "                                            'timestamp': lambda x: pd.to_datetime(x.max()),\n",
    "                                            'total_revenue_$': lambda x: x.sum(),\n",
    "                                            'ride_distance_miles': lambda x: x.sum(),\n",
    "                                            'ride_duration': lambda x: x.sum(),\n",
    "                                            'ride_prime_time': lambda x: x[x>0].count().astype(float)/x.count(),\n",
    "                                            'timestamp': lambda x: x.str.slice(start=0,stop=10).nunique(),\n",
    "                                            #'total_revenue_$': lambda x: x[rides_first_28_period['ride_prime_time']>0].sum()\n",
    "                                            }).rename(columns={\n",
    "                                                                'ride_id': '#_rides',\n",
    "                                                                'timestamp': 'last_date',\n",
    "                                                                'ride_distance_miles': 'total_distance_miles',\n",
    "                                                                'ride_duration':'total_duration_seconds',\n",
    "                                                                'total_revenue_$':'first_28_days_revenue_$',\n",
    "                                                                'timestamp': '#_active_days',\n",
    "                                                                'ride_prime_time': '%_prime_time',\n",
    "                                                                #'total_revenue_$': ['first_28_days_revenue_$', 'revenue_prime_time','revenue_no_prime_time']\n",
    "                                                })\n",
    "drivers_first_28_period.head()"
   ]
  },
  {
   "cell_type": "code",
   "execution_count": 246,
   "metadata": {
    "collapsed": false
   },
   "outputs": [
    {
     "data": {
      "text/html": [
       "<div>\n",
       "<style>\n",
       "    .dataframe thead tr:only-child th {\n",
       "        text-align: right;\n",
       "    }\n",
       "\n",
       "    .dataframe thead th {\n",
       "        text-align: left;\n",
       "    }\n",
       "\n",
       "    .dataframe tbody tr th {\n",
       "        vertical-align: top;\n",
       "    }\n",
       "</style>\n",
       "<table border=\"1\" class=\"dataframe\">\n",
       "  <thead>\n",
       "    <tr style=\"text-align: right;\">\n",
       "      <th></th>\n",
       "      <th>driver_id</th>\n",
       "      <th>#_rides</th>\n",
       "      <th>driver_onboard_date</th>\n",
       "      <th>last_date</th>\n",
       "      <th>total_duration_seconds</th>\n",
       "      <th>second_28_days_revenue_$</th>\n",
       "      <th>total_distance_miles</th>\n",
       "    </tr>\n",
       "  </thead>\n",
       "  <tbody>\n",
       "    <tr>\n",
       "      <th>0</th>\n",
       "      <td>002be0ffdc997bd5c50703158b7c2491</td>\n",
       "      <td>42</td>\n",
       "      <td>2016-03-29</td>\n",
       "      <td>2016-05-22 14:57:33</td>\n",
       "      <td>34449.0</td>\n",
       "      <td>508.093372</td>\n",
       "      <td>166.278880</td>\n",
       "    </tr>\n",
       "    <tr>\n",
       "      <th>1</th>\n",
       "      <td>007f0389f9c7b03ef97098422f902e62</td>\n",
       "      <td>15</td>\n",
       "      <td>2016-03-29</td>\n",
       "      <td>2016-05-19 15:56:56</td>\n",
       "      <td>10049.0</td>\n",
       "      <td>122.814027</td>\n",
       "      <td>39.226530</td>\n",
       "    </tr>\n",
       "    <tr>\n",
       "      <th>2</th>\n",
       "      <td>011e5c5dfc5c2c92501b8b24d47509bc</td>\n",
       "      <td>17</td>\n",
       "      <td>2016-04-05</td>\n",
       "      <td>2016-05-26 07:22:38</td>\n",
       "      <td>16457.0</td>\n",
       "      <td>222.343912</td>\n",
       "      <td>94.615541</td>\n",
       "    </tr>\n",
       "    <tr>\n",
       "      <th>3</th>\n",
       "      <td>0152a2f305e71d26cc964f8d4411add9</td>\n",
       "      <td>93</td>\n",
       "      <td>2016-04-23</td>\n",
       "      <td>2016-06-17 08:21:46</td>\n",
       "      <td>90484.0</td>\n",
       "      <td>1086.718766</td>\n",
       "      <td>465.414957</td>\n",
       "    </tr>\n",
       "    <tr>\n",
       "      <th>4</th>\n",
       "      <td>01674381af7edd264113d4e6ed55ecda</td>\n",
       "      <td>190</td>\n",
       "      <td>2016-04-29</td>\n",
       "      <td>2016-06-23 14:36:52</td>\n",
       "      <td>182815.0</td>\n",
       "      <td>2312.106739</td>\n",
       "      <td>1015.189105</td>\n",
       "    </tr>\n",
       "  </tbody>\n",
       "</table>\n",
       "</div>"
      ],
      "text/plain": [
       "                          driver_id  #_rides driver_onboard_date  \\\n",
       "0  002be0ffdc997bd5c50703158b7c2491       42          2016-03-29   \n",
       "1  007f0389f9c7b03ef97098422f902e62       15          2016-03-29   \n",
       "2  011e5c5dfc5c2c92501b8b24d47509bc       17          2016-04-05   \n",
       "3  0152a2f305e71d26cc964f8d4411add9       93          2016-04-23   \n",
       "4  01674381af7edd264113d4e6ed55ecda      190          2016-04-29   \n",
       "\n",
       "            last_date  total_duration_seconds  second_28_days_revenue_$  \\\n",
       "0 2016-05-22 14:57:33                 34449.0                508.093372   \n",
       "1 2016-05-19 15:56:56                 10049.0                122.814027   \n",
       "2 2016-05-26 07:22:38                 16457.0                222.343912   \n",
       "3 2016-06-17 08:21:46                 90484.0               1086.718766   \n",
       "4 2016-06-23 14:36:52                182815.0               2312.106739   \n",
       "\n",
       "   total_distance_miles  \n",
       "0            166.278880  \n",
       "1             39.226530  \n",
       "2             94.615541  \n",
       "3            465.414957  \n",
       "4           1015.189105  "
      ]
     },
     "execution_count": 246,
     "metadata": {},
     "output_type": "execute_result"
    }
   ],
   "source": [
    "# 2ND Period of 28 days\n",
    "\n",
    "drivers_second_28_period = rides_second_28_period.groupby('driver_id', as_index=False).agg({\n",
    "                                            'ride_id': lambda x: x.count(),\n",
    "                                            'driver_onboard_date': lambda x: pd.to_datetime(x.iloc[0]),\n",
    "                                            'timestamp': lambda x: pd.to_datetime(x.max()),\n",
    "                                            'total_revenue_$': lambda x: x.sum(),\n",
    "                                            'ride_distance_miles': lambda x: x.sum(),\n",
    "                                            'ride_duration': lambda x: x.sum(),\n",
    "                                            }).rename(columns={\n",
    "                                                                'ride_id': '#_rides',\n",
    "                                                                'timestamp': 'last_date',\n",
    "                                                                'ride_distance_miles': 'total_distance_miles',\n",
    "                                                                'ride_duration':'total_duration_seconds',\n",
    "                                                                'total_revenue_$':'second_28_days_revenue_$'\n",
    "                                                })\n",
    "drivers_second_28_period.head()"
   ]
  },
  {
   "cell_type": "code",
   "execution_count": 247,
   "metadata": {
    "collapsed": false
   },
   "outputs": [
    {
     "data": {
      "text/html": [
       "<div>\n",
       "<style>\n",
       "    .dataframe thead tr:only-child th {\n",
       "        text-align: right;\n",
       "    }\n",
       "\n",
       "    .dataframe thead th {\n",
       "        text-align: left;\n",
       "    }\n",
       "\n",
       "    .dataframe tbody tr th {\n",
       "        vertical-align: top;\n",
       "    }\n",
       "</style>\n",
       "<table border=\"1\" class=\"dataframe\">\n",
       "  <thead>\n",
       "    <tr style=\"text-align: right;\">\n",
       "      <th></th>\n",
       "      <th>driver_id</th>\n",
       "      <th>#_rides</th>\n",
       "      <th>total_duration_seconds</th>\n",
       "      <th>first_28_days_revenue_$</th>\n",
       "      <th>driver_onboard_date</th>\n",
       "      <th>total_distance_miles</th>\n",
       "      <th>#_active_days</th>\n",
       "      <th>%_prime_time</th>\n",
       "      <th>rides_per_day</th>\n",
       "    </tr>\n",
       "  </thead>\n",
       "  <tbody>\n",
       "    <tr>\n",
       "      <th>0</th>\n",
       "      <td>002be0ffdc997bd5c50703158b7c2491</td>\n",
       "      <td>109</td>\n",
       "      <td>78271.0</td>\n",
       "      <td>1090.035053</td>\n",
       "      <td>2016-03-29</td>\n",
       "      <td>386.305108</td>\n",
       "      <td>21</td>\n",
       "      <td>0.376147</td>\n",
       "      <td>3.892857</td>\n",
       "    </tr>\n",
       "    <tr>\n",
       "      <th>1</th>\n",
       "      <td>007f0389f9c7b03ef97098422f902e62</td>\n",
       "      <td>7</td>\n",
       "      <td>5471.0</td>\n",
       "      <td>67.431463</td>\n",
       "      <td>2016-03-29</td>\n",
       "      <td>18.624974</td>\n",
       "      <td>3</td>\n",
       "      <td>0.428571</td>\n",
       "      <td>0.250000</td>\n",
       "    </tr>\n",
       "    <tr>\n",
       "      <th>2</th>\n",
       "      <td>011e5c5dfc5c2c92501b8b24d47509bc</td>\n",
       "      <td>12</td>\n",
       "      <td>9929.0</td>\n",
       "      <td>144.589610</td>\n",
       "      <td>2016-04-05</td>\n",
       "      <td>58.779211</td>\n",
       "      <td>5</td>\n",
       "      <td>0.416667</td>\n",
       "      <td>0.428571</td>\n",
       "    </tr>\n",
       "    <tr>\n",
       "      <th>3</th>\n",
       "      <td>0152a2f305e71d26cc964f8d4411add9</td>\n",
       "      <td>56</td>\n",
       "      <td>46599.0</td>\n",
       "      <td>626.121248</td>\n",
       "      <td>2016-04-23</td>\n",
       "      <td>264.131763</td>\n",
       "      <td>15</td>\n",
       "      <td>0.214286</td>\n",
       "      <td>2.000000</td>\n",
       "    </tr>\n",
       "    <tr>\n",
       "      <th>4</th>\n",
       "      <td>01674381af7edd264113d4e6ed55ecda</td>\n",
       "      <td>176</td>\n",
       "      <td>165773.0</td>\n",
       "      <td>2045.983642</td>\n",
       "      <td>2016-04-29</td>\n",
       "      <td>878.087322</td>\n",
       "      <td>20</td>\n",
       "      <td>0.261364</td>\n",
       "      <td>6.285714</td>\n",
       "    </tr>\n",
       "  </tbody>\n",
       "</table>\n",
       "</div>"
      ],
      "text/plain": [
       "                          driver_id  #_rides  total_duration_seconds  \\\n",
       "0  002be0ffdc997bd5c50703158b7c2491      109                 78271.0   \n",
       "1  007f0389f9c7b03ef97098422f902e62        7                  5471.0   \n",
       "2  011e5c5dfc5c2c92501b8b24d47509bc       12                  9929.0   \n",
       "3  0152a2f305e71d26cc964f8d4411add9       56                 46599.0   \n",
       "4  01674381af7edd264113d4e6ed55ecda      176                165773.0   \n",
       "\n",
       "   first_28_days_revenue_$ driver_onboard_date  total_distance_miles  \\\n",
       "0              1090.035053          2016-03-29            386.305108   \n",
       "1                67.431463          2016-03-29             18.624974   \n",
       "2               144.589610          2016-04-05             58.779211   \n",
       "3               626.121248          2016-04-23            264.131763   \n",
       "4              2045.983642          2016-04-29            878.087322   \n",
       "\n",
       "   #_active_days  %_prime_time  rides_per_day  \n",
       "0             21      0.376147       3.892857  \n",
       "1              3      0.428571       0.250000  \n",
       "2              5      0.416667       0.428571  \n",
       "3             15      0.214286       2.000000  \n",
       "4             20      0.261364       6.285714  "
      ]
     },
     "execution_count": 247,
     "metadata": {},
     "output_type": "execute_result"
    }
   ],
   "source": [
    "# \n",
    "\n",
    "drivers_first_28_period['rides_per_day'] =drivers_first_28_period['#_rides']/28\n",
    "drivers_first_28_period.head()"
   ]
  },
  {
   "cell_type": "code",
   "execution_count": 248,
   "metadata": {
    "collapsed": true
   },
   "outputs": [],
   "source": [
    "drivers_revenue_per_period = pd.merge(drivers_first_28_period.iloc[:,[0,1,3,6,7]],drivers_second_28_period.iloc[:,[0,5]],how='outer',on='driver_id')"
   ]
  },
  {
   "cell_type": "code",
   "execution_count": 249,
   "metadata": {
    "collapsed": true
   },
   "outputs": [],
   "source": [
    "drivers_revenue_per_period['Churn_2nd_period'] = drivers_revenue_per_period['second_28_days_revenue_$'].map(lambda x: 0 if x>0 else 1) "
   ]
  },
  {
   "cell_type": "code",
   "execution_count": 250,
   "metadata": {
    "collapsed": true
   },
   "outputs": [],
   "source": [
    "drivers_revenue_per_period['retention'] = 1- drivers_revenue_per_period['Churn_2nd_period']"
   ]
  },
  {
   "cell_type": "code",
   "execution_count": 251,
   "metadata": {
    "collapsed": true
   },
   "outputs": [],
   "source": [
    "drivers_revenue_per_period['bucket_by_500'] = drivers_revenue_per_period['first_28_days_revenue_$']//500"
   ]
  },
  {
   "cell_type": "code",
   "execution_count": 252,
   "metadata": {
    "collapsed": true
   },
   "outputs": [],
   "source": [
    "drivers_revenue_per_period.to_pickle('/Users/Hedi/Documents/LYFT_HEDI/churn_df.pickle')"
   ]
  },
  {
   "cell_type": "code",
   "execution_count": 253,
   "metadata": {
    "collapsed": false
   },
   "outputs": [
    {
     "data": {
      "text/html": [
       "<div>\n",
       "<style>\n",
       "    .dataframe thead tr:only-child th {\n",
       "        text-align: right;\n",
       "    }\n",
       "\n",
       "    .dataframe thead th {\n",
       "        text-align: left;\n",
       "    }\n",
       "\n",
       "    .dataframe tbody tr th {\n",
       "        vertical-align: top;\n",
       "    }\n",
       "</style>\n",
       "<table border=\"1\" class=\"dataframe\">\n",
       "  <thead>\n",
       "    <tr style=\"text-align: right;\">\n",
       "      <th></th>\n",
       "      <th>bucket_by_500</th>\n",
       "      <th>#_drivers</th>\n",
       "      <th>Average_churn</th>\n",
       "      <th>Average_retention</th>\n",
       "    </tr>\n",
       "  </thead>\n",
       "  <tbody>\n",
       "    <tr>\n",
       "      <th>0</th>\n",
       "      <td>0.0</td>\n",
       "      <td>214</td>\n",
       "      <td>0.327103</td>\n",
       "      <td>0.672897</td>\n",
       "    </tr>\n",
       "    <tr>\n",
       "      <th>1</th>\n",
       "      <td>1.0</td>\n",
       "      <td>156</td>\n",
       "      <td>0.121795</td>\n",
       "      <td>0.878205</td>\n",
       "    </tr>\n",
       "    <tr>\n",
       "      <th>2</th>\n",
       "      <td>2.0</td>\n",
       "      <td>131</td>\n",
       "      <td>0.030534</td>\n",
       "      <td>0.969466</td>\n",
       "    </tr>\n",
       "    <tr>\n",
       "      <th>3</th>\n",
       "      <td>3.0</td>\n",
       "      <td>63</td>\n",
       "      <td>0.015873</td>\n",
       "      <td>0.984127</td>\n",
       "    </tr>\n",
       "    <tr>\n",
       "      <th>4</th>\n",
       "      <td>4.0</td>\n",
       "      <td>50</td>\n",
       "      <td>0.000000</td>\n",
       "      <td>1.000000</td>\n",
       "    </tr>\n",
       "    <tr>\n",
       "      <th>5</th>\n",
       "      <td>5.0</td>\n",
       "      <td>18</td>\n",
       "      <td>0.000000</td>\n",
       "      <td>1.000000</td>\n",
       "    </tr>\n",
       "    <tr>\n",
       "      <th>6</th>\n",
       "      <td>6.0</td>\n",
       "      <td>7</td>\n",
       "      <td>0.000000</td>\n",
       "      <td>1.000000</td>\n",
       "    </tr>\n",
       "    <tr>\n",
       "      <th>7</th>\n",
       "      <td>7.0</td>\n",
       "      <td>2</td>\n",
       "      <td>0.000000</td>\n",
       "      <td>1.000000</td>\n",
       "    </tr>\n",
       "    <tr>\n",
       "      <th>8</th>\n",
       "      <td>8.0</td>\n",
       "      <td>3</td>\n",
       "      <td>0.000000</td>\n",
       "      <td>1.000000</td>\n",
       "    </tr>\n",
       "    <tr>\n",
       "      <th>9</th>\n",
       "      <td>9.0</td>\n",
       "      <td>2</td>\n",
       "      <td>0.000000</td>\n",
       "      <td>1.000000</td>\n",
       "    </tr>\n",
       "  </tbody>\n",
       "</table>\n",
       "</div>"
      ],
      "text/plain": [
       "   bucket_by_500  #_drivers  Average_churn  Average_retention\n",
       "0            0.0        214       0.327103           0.672897\n",
       "1            1.0        156       0.121795           0.878205\n",
       "2            2.0        131       0.030534           0.969466\n",
       "3            3.0         63       0.015873           0.984127\n",
       "4            4.0         50       0.000000           1.000000\n",
       "5            5.0         18       0.000000           1.000000\n",
       "6            6.0          7       0.000000           1.000000\n",
       "7            7.0          2       0.000000           1.000000\n",
       "8            8.0          3       0.000000           1.000000\n",
       "9            9.0          2       0.000000           1.000000"
      ]
     },
     "execution_count": 253,
     "metadata": {},
     "output_type": "execute_result"
    }
   ],
   "source": [
    "churn_per_revenue_bucket = drivers_revenue_per_period.groupby('bucket_by_500', as_index=False).agg({\n",
    "                                            'driver_id': lambda x: x.count(),\n",
    "                                            'Churn_2nd_period': np.mean,\n",
    "                                            'retention': np.mean\n",
    "                                            }).rename(columns={\n",
    "                                                                'driver_id': '#_drivers',\n",
    "                                                                'Churn_2nd_period': 'Average_churn',\n",
    "                                                                'retention': 'Average_retention'\n",
    "                                                })\n",
    "churn_per_revenue_bucket"
   ]
  },
  {
   "cell_type": "code",
   "execution_count": 254,
   "metadata": {
    "collapsed": false
   },
   "outputs": [
    {
     "data": {
      "text/plain": [
       "<matplotlib.axes._subplots.AxesSubplot at 0x11bd37d50>"
      ]
     },
     "execution_count": 254,
     "metadata": {},
     "output_type": "execute_result"
    },
    {
     "data": {
      "image/png": "[encoded data removed]",
      "text/plain": [
       "<matplotlib.figure.Figure at 0x11b4255d0>"
      ]
     },
     "metadata": {},
     "output_type": "display_data"
    }
   ],
   "source": [
    "\n",
    "\n",
    "plt.figure(figsize=(20,8))\n",
    "sns.barplot(x='bucket_by_500',y='Average_retention',data=churn_per_revenue_bucket,color='blue')\n",
    "#plt.savefig('retention.png')"
   ]
  },
  {
   "cell_type": "code",
   "execution_count": 255,
   "metadata": {
    "collapsed": false
   },
   "outputs": [],
   "source": [
    "#plt.figure(figsize=(20,6))\n",
    "#churn_per_revenue_bucket.plot(x='bucket_by_500',y='Average_retention', kind='bar')\n",
    "#fig.savefig('retention.png')"
   ]
  },
  {
   "cell_type": "markdown",
   "metadata": {
    "collapsed": true
   },
   "source": [
    "# -----------------------------------------------------------------"
   ]
  },
  {
   "cell_type": "markdown",
   "metadata": {},
   "source": [
    "# Driver Value"
   ]
  },
  {
   "cell_type": "markdown",
   "metadata": {},
   "source": [
    "### First 28 day period"
   ]
  },
  {
   "cell_type": "code",
   "execution_count": 256,
   "metadata": {
    "collapsed": false
   },
   "outputs": [
    {
     "data": {
      "text/html": [
       "<div>\n",
       "<style>\n",
       "    .dataframe thead tr:only-child th {\n",
       "        text-align: right;\n",
       "    }\n",
       "\n",
       "    .dataframe thead th {\n",
       "        text-align: left;\n",
       "    }\n",
       "\n",
       "    .dataframe tbody tr th {\n",
       "        vertical-align: top;\n",
       "    }\n",
       "</style>\n",
       "<table border=\"1\" class=\"dataframe\">\n",
       "  <thead>\n",
       "    <tr>\n",
       "      <th></th>\n",
       "      <th>driver_id</th>\n",
       "      <th>#_rides</th>\n",
       "      <th>total_duration_seconds</th>\n",
       "      <th colspan=\"3\" halign=\"left\">total_revenue_$</th>\n",
       "      <th>driver_onboard_date</th>\n",
       "      <th>total_distance_miles</th>\n",
       "      <th>#_active_days</th>\n",
       "      <th>%_prime_time</th>\n",
       "    </tr>\n",
       "    <tr>\n",
       "      <th></th>\n",
       "      <th></th>\n",
       "      <th>&lt;lambda&gt;</th>\n",
       "      <th>&lt;lambda&gt;</th>\n",
       "      <th>first_28_days_revenue_$</th>\n",
       "      <th>revenue_prime_time</th>\n",
       "      <th>revenue_no_prime_time</th>\n",
       "      <th>&lt;lambda&gt;</th>\n",
       "      <th>&lt;lambda&gt;</th>\n",
       "      <th>&lt;lambda&gt;</th>\n",
       "      <th>&lt;lambda&gt;</th>\n",
       "    </tr>\n",
       "  </thead>\n",
       "  <tbody>\n",
       "    <tr>\n",
       "      <th>0</th>\n",
       "      <td>002be0ffdc997bd5c50703158b7c2491</td>\n",
       "      <td>109</td>\n",
       "      <td>78271.0</td>\n",
       "      <td>1090.035053</td>\n",
       "      <td>474.501238</td>\n",
       "      <td>615.533816</td>\n",
       "      <td>2016-03-29</td>\n",
       "      <td>386.305108</td>\n",
       "      <td>21</td>\n",
       "      <td>0.376147</td>\n",
       "    </tr>\n",
       "    <tr>\n",
       "      <th>1</th>\n",
       "      <td>007f0389f9c7b03ef97098422f902e62</td>\n",
       "      <td>7</td>\n",
       "      <td>5471.0</td>\n",
       "      <td>67.431463</td>\n",
       "      <td>39.043410</td>\n",
       "      <td>28.388053</td>\n",
       "      <td>2016-03-29</td>\n",
       "      <td>18.624974</td>\n",
       "      <td>3</td>\n",
       "      <td>0.428571</td>\n",
       "    </tr>\n",
       "    <tr>\n",
       "      <th>2</th>\n",
       "      <td>011e5c5dfc5c2c92501b8b24d47509bc</td>\n",
       "      <td>12</td>\n",
       "      <td>9929.0</td>\n",
       "      <td>144.589610</td>\n",
       "      <td>68.121854</td>\n",
       "      <td>76.467756</td>\n",
       "      <td>2016-04-05</td>\n",
       "      <td>58.779211</td>\n",
       "      <td>5</td>\n",
       "      <td>0.416667</td>\n",
       "    </tr>\n",
       "    <tr>\n",
       "      <th>3</th>\n",
       "      <td>0152a2f305e71d26cc964f8d4411add9</td>\n",
       "      <td>56</td>\n",
       "      <td>46599.0</td>\n",
       "      <td>626.121248</td>\n",
       "      <td>164.694850</td>\n",
       "      <td>461.426399</td>\n",
       "      <td>2016-04-23</td>\n",
       "      <td>264.131763</td>\n",
       "      <td>15</td>\n",
       "      <td>0.214286</td>\n",
       "    </tr>\n",
       "    <tr>\n",
       "      <th>4</th>\n",
       "      <td>01674381af7edd264113d4e6ed55ecda</td>\n",
       "      <td>176</td>\n",
       "      <td>165773.0</td>\n",
       "      <td>2045.983642</td>\n",
       "      <td>549.832929</td>\n",
       "      <td>1496.150713</td>\n",
       "      <td>2016-04-29</td>\n",
       "      <td>878.087322</td>\n",
       "      <td>20</td>\n",
       "      <td>0.261364</td>\n",
       "    </tr>\n",
       "  </tbody>\n",
       "</table>\n",
       "</div>"
      ],
      "text/plain": [
       "                          driver_id  #_rides total_duration_seconds  \\\n",
       "                                    <lambda>               <lambda>   \n",
       "0  002be0ffdc997bd5c50703158b7c2491      109                78271.0   \n",
       "1  007f0389f9c7b03ef97098422f902e62        7                 5471.0   \n",
       "2  011e5c5dfc5c2c92501b8b24d47509bc       12                 9929.0   \n",
       "3  0152a2f305e71d26cc964f8d4411add9       56                46599.0   \n",
       "4  01674381af7edd264113d4e6ed55ecda      176               165773.0   \n",
       "\n",
       "          total_revenue_$                                           \\\n",
       "  first_28_days_revenue_$ revenue_prime_time revenue_no_prime_time   \n",
       "0             1090.035053         474.501238            615.533816   \n",
       "1               67.431463          39.043410             28.388053   \n",
       "2              144.589610          68.121854             76.467756   \n",
       "3              626.121248         164.694850            461.426399   \n",
       "4             2045.983642         549.832929           1496.150713   \n",
       "\n",
       "  driver_onboard_date total_distance_miles #_active_days %_prime_time  \n",
       "             <lambda>             <lambda>      <lambda>     <lambda>  \n",
       "0          2016-03-29           386.305108            21     0.376147  \n",
       "1          2016-03-29            18.624974             3     0.428571  \n",
       "2          2016-04-05            58.779211             5     0.416667  \n",
       "3          2016-04-23           264.131763            15     0.214286  \n",
       "4          2016-04-29           878.087322            20     0.261364  "
      ]
     },
     "execution_count": 256,
     "metadata": {},
     "output_type": "execute_result"
    }
   ],
   "source": [
    "# 1ST Period of 28 days\n",
    "\n",
    "drivers_value_first_28_period = rides_first_28_period.groupby('driver_id', as_index=False).agg({\n",
    "                                            'ride_id': lambda x: x.count(),\n",
    "                                            'driver_onboard_date': lambda x: pd.to_datetime(x.iloc[0]),\n",
    "                                            'timestamp': lambda x: pd.to_datetime(x.max()),\n",
    "                                            'total_revenue_$': {'first_28_days_revenue_$':lambda x: x.sum(),'revenue_prime_time':lambda x: x[rides_first_28_period['ride_prime_time']>0].sum(),'revenue_no_prime_time':lambda x: x[rides_first_28_period['ride_prime_time']==0].sum()},\n",
    "                                            'ride_distance_miles': lambda x: x.sum(),\n",
    "                                            'ride_duration': lambda x: x.sum(),\n",
    "                                            'ride_prime_time': lambda x: x[x>0].count().astype(float)/x.count(),\n",
    "                                            'timestamp': lambda x: x.str.slice(start=0,stop=10).nunique(),\n",
    "                                            #'total_revenue_$': lambda x: x[rides_first_28_period['ride_prime_time']>0].sum()\n",
    "                                            }).rename(columns={\n",
    "                                                                'ride_id': '#_rides',\n",
    "                                                                'timestamp': 'last_date',\n",
    "                                                                'ride_distance_miles': 'total_distance_miles',\n",
    "                                                                'ride_duration':'total_duration_seconds',\n",
    "                                                                #'total_revenue_$':'first_28_days_revenue_$',\n",
    "                                                                'timestamp': '#_active_days',\n",
    "                                                                'ride_prime_time': '%_prime_time',\n",
    "                                                                #'total_revenue_$': ['first_28_days_revenue_$', 'revenue_prime_time','revenue_no_prime_time']\n",
    "                                                })\n",
    "drivers_value_first_28_period.head()"
   ]
  },
  {
   "cell_type": "code",
   "execution_count": 257,
   "metadata": {
    "collapsed": false
   },
   "outputs": [],
   "source": [
    "first_period_drivers_value = drivers_value_first_28_period['total_revenue_$'] \n",
    "first_period_drivers_value['driver_id'] = drivers_value_first_28_period['driver_id']"
   ]
  },
  {
   "cell_type": "code",
   "execution_count": 258,
   "metadata": {
    "collapsed": false
   },
   "outputs": [
    {
     "data": {
      "text/html": [
       "<div>\n",
       "<style>\n",
       "    .dataframe thead tr:only-child th {\n",
       "        text-align: right;\n",
       "    }\n",
       "\n",
       "    .dataframe thead th {\n",
       "        text-align: left;\n",
       "    }\n",
       "\n",
       "    .dataframe tbody tr th {\n",
       "        vertical-align: top;\n",
       "    }\n",
       "</style>\n",
       "<table border=\"1\" class=\"dataframe\">\n",
       "  <thead>\n",
       "    <tr style=\"text-align: right;\">\n",
       "      <th></th>\n",
       "      <th>first_28_days_revenue_$</th>\n",
       "      <th>revenue_prime_time</th>\n",
       "      <th>revenue_no_prime_time</th>\n",
       "      <th>driver_id</th>\n",
       "      <th>Driver_value_if_prime_time_first_period</th>\n",
       "      <th>Driver_value_if_no_prime_time_first_period</th>\n",
       "      <th>Total_Driver_value_first_period</th>\n",
       "    </tr>\n",
       "  </thead>\n",
       "  <tbody>\n",
       "    <tr>\n",
       "      <th>0</th>\n",
       "      <td>1090.035053</td>\n",
       "      <td>474.501238</td>\n",
       "      <td>615.533816</td>\n",
       "      <td>002be0ffdc997bd5c50703158b7c2491</td>\n",
       "      <td>83.037717</td>\n",
       "      <td>76.941727</td>\n",
       "      <td>159.979444</td>\n",
       "    </tr>\n",
       "    <tr>\n",
       "      <th>1</th>\n",
       "      <td>67.431463</td>\n",
       "      <td>39.043410</td>\n",
       "      <td>28.388053</td>\n",
       "      <td>007f0389f9c7b03ef97098422f902e62</td>\n",
       "      <td>6.832597</td>\n",
       "      <td>3.548507</td>\n",
       "      <td>10.381103</td>\n",
       "    </tr>\n",
       "    <tr>\n",
       "      <th>2</th>\n",
       "      <td>144.589610</td>\n",
       "      <td>68.121854</td>\n",
       "      <td>76.467756</td>\n",
       "      <td>011e5c5dfc5c2c92501b8b24d47509bc</td>\n",
       "      <td>11.921324</td>\n",
       "      <td>9.558470</td>\n",
       "      <td>21.479794</td>\n",
       "    </tr>\n",
       "    <tr>\n",
       "      <th>3</th>\n",
       "      <td>626.121248</td>\n",
       "      <td>164.694850</td>\n",
       "      <td>461.426399</td>\n",
       "      <td>0152a2f305e71d26cc964f8d4411add9</td>\n",
       "      <td>28.821599</td>\n",
       "      <td>57.678300</td>\n",
       "      <td>86.499899</td>\n",
       "    </tr>\n",
       "    <tr>\n",
       "      <th>4</th>\n",
       "      <td>2045.983642</td>\n",
       "      <td>549.832929</td>\n",
       "      <td>1496.150713</td>\n",
       "      <td>01674381af7edd264113d4e6ed55ecda</td>\n",
       "      <td>96.220763</td>\n",
       "      <td>187.018839</td>\n",
       "      <td>283.239602</td>\n",
       "    </tr>\n",
       "  </tbody>\n",
       "</table>\n",
       "</div>"
      ],
      "text/plain": [
       "   first_28_days_revenue_$  revenue_prime_time  revenue_no_prime_time  \\\n",
       "0              1090.035053          474.501238             615.533816   \n",
       "1                67.431463           39.043410              28.388053   \n",
       "2               144.589610           68.121854              76.467756   \n",
       "3               626.121248          164.694850             461.426399   \n",
       "4              2045.983642          549.832929            1496.150713   \n",
       "\n",
       "                          driver_id  Driver_value_if_prime_time_first_period  \\\n",
       "0  002be0ffdc997bd5c50703158b7c2491                                83.037717   \n",
       "1  007f0389f9c7b03ef97098422f902e62                                 6.832597   \n",
       "2  011e5c5dfc5c2c92501b8b24d47509bc                                11.921324   \n",
       "3  0152a2f305e71d26cc964f8d4411add9                                28.821599   \n",
       "4  01674381af7edd264113d4e6ed55ecda                                96.220763   \n",
       "\n",
       "   Driver_value_if_no_prime_time_first_period  Total_Driver_value_first_period  \n",
       "0                                   76.941727                       159.979444  \n",
       "1                                    3.548507                        10.381103  \n",
       "2                                    9.558470                        21.479794  \n",
       "3                                   57.678300                        86.499899  \n",
       "4                                  187.018839                       283.239602  "
      ]
     },
     "execution_count": 258,
     "metadata": {},
     "output_type": "execute_result"
    }
   ],
   "source": [
    "# Lyft commision on each ride is 25%\n",
    "# If prime time, the value of a driver should increase -> 70% of 25%\n",
    "# If no prime time, the value of a driver should increase -> 50% of 25%\n",
    "\n",
    "first_period_drivers_value['Driver_value_if_prime_time_first_period'] =  0.7 * (first_period_drivers_value['revenue_prime_time']*0.25)\n",
    "first_period_drivers_value['Driver_value_if_no_prime_time_first_period'] =  0.5 * (first_period_drivers_value['revenue_no_prime_time']*0.25)\n",
    "first_period_drivers_value['Total_Driver_value_first_period'] =  first_period_drivers_value['Driver_value_if_no_prime_time_first_period'] + first_period_drivers_value['Driver_value_if_prime_time_first_period']\n",
    "first_period_drivers_value.head()"
   ]
  },
  {
   "cell_type": "markdown",
   "metadata": {},
   "source": [
    "### Second 28 day period"
   ]
  },
  {
   "cell_type": "code",
   "execution_count": 259,
   "metadata": {
    "collapsed": false
   },
   "outputs": [
    {
     "data": {
      "text/html": [
       "<div>\n",
       "<style>\n",
       "    .dataframe thead tr:only-child th {\n",
       "        text-align: right;\n",
       "    }\n",
       "\n",
       "    .dataframe thead th {\n",
       "        text-align: left;\n",
       "    }\n",
       "\n",
       "    .dataframe tbody tr th {\n",
       "        vertical-align: top;\n",
       "    }\n",
       "</style>\n",
       "<table border=\"1\" class=\"dataframe\">\n",
       "  <thead>\n",
       "    <tr>\n",
       "      <th></th>\n",
       "      <th>driver_id</th>\n",
       "      <th>#_rides</th>\n",
       "      <th>total_duration_seconds</th>\n",
       "      <th colspan=\"3\" halign=\"left\">total_revenue_$</th>\n",
       "      <th>driver_onboard_date</th>\n",
       "      <th>total_distance_miles</th>\n",
       "      <th>#_active_days</th>\n",
       "      <th>%_prime_time</th>\n",
       "    </tr>\n",
       "    <tr>\n",
       "      <th></th>\n",
       "      <th></th>\n",
       "      <th>&lt;lambda&gt;</th>\n",
       "      <th>&lt;lambda&gt;</th>\n",
       "      <th>second_28_days_revenue_$</th>\n",
       "      <th>revenue_prime_time</th>\n",
       "      <th>revenue_no_prime_time</th>\n",
       "      <th>&lt;lambda&gt;</th>\n",
       "      <th>&lt;lambda&gt;</th>\n",
       "      <th>&lt;lambda&gt;</th>\n",
       "      <th>&lt;lambda&gt;</th>\n",
       "    </tr>\n",
       "  </thead>\n",
       "  <tbody>\n",
       "    <tr>\n",
       "      <th>0</th>\n",
       "      <td>002be0ffdc997bd5c50703158b7c2491</td>\n",
       "      <td>42</td>\n",
       "      <td>34449.0</td>\n",
       "      <td>508.093372</td>\n",
       "      <td>364.848300</td>\n",
       "      <td>143.245072</td>\n",
       "      <td>2016-03-29</td>\n",
       "      <td>166.278880</td>\n",
       "      <td>11</td>\n",
       "      <td>0.523810</td>\n",
       "    </tr>\n",
       "    <tr>\n",
       "      <th>1</th>\n",
       "      <td>007f0389f9c7b03ef97098422f902e62</td>\n",
       "      <td>15</td>\n",
       "      <td>10049.0</td>\n",
       "      <td>122.814027</td>\n",
       "      <td>45.262236</td>\n",
       "      <td>77.551791</td>\n",
       "      <td>2016-03-29</td>\n",
       "      <td>39.226530</td>\n",
       "      <td>5</td>\n",
       "      <td>0.333333</td>\n",
       "    </tr>\n",
       "    <tr>\n",
       "      <th>2</th>\n",
       "      <td>011e5c5dfc5c2c92501b8b24d47509bc</td>\n",
       "      <td>17</td>\n",
       "      <td>16457.0</td>\n",
       "      <td>222.343912</td>\n",
       "      <td>96.207031</td>\n",
       "      <td>126.136881</td>\n",
       "      <td>2016-04-05</td>\n",
       "      <td>94.615541</td>\n",
       "      <td>6</td>\n",
       "      <td>0.529412</td>\n",
       "    </tr>\n",
       "    <tr>\n",
       "      <th>3</th>\n",
       "      <td>0152a2f305e71d26cc964f8d4411add9</td>\n",
       "      <td>93</td>\n",
       "      <td>90484.0</td>\n",
       "      <td>1086.718766</td>\n",
       "      <td>335.530148</td>\n",
       "      <td>751.188617</td>\n",
       "      <td>2016-04-23</td>\n",
       "      <td>465.414957</td>\n",
       "      <td>19</td>\n",
       "      <td>0.279570</td>\n",
       "    </tr>\n",
       "    <tr>\n",
       "      <th>4</th>\n",
       "      <td>01674381af7edd264113d4e6ed55ecda</td>\n",
       "      <td>190</td>\n",
       "      <td>182815.0</td>\n",
       "      <td>2312.106739</td>\n",
       "      <td>648.273412</td>\n",
       "      <td>1663.833328</td>\n",
       "      <td>2016-04-29</td>\n",
       "      <td>1015.189105</td>\n",
       "      <td>19</td>\n",
       "      <td>0.247368</td>\n",
       "    </tr>\n",
       "  </tbody>\n",
       "</table>\n",
       "</div>"
      ],
      "text/plain": [
       "                          driver_id  #_rides total_duration_seconds  \\\n",
       "                                    <lambda>               <lambda>   \n",
       "0  002be0ffdc997bd5c50703158b7c2491       42                34449.0   \n",
       "1  007f0389f9c7b03ef97098422f902e62       15                10049.0   \n",
       "2  011e5c5dfc5c2c92501b8b24d47509bc       17                16457.0   \n",
       "3  0152a2f305e71d26cc964f8d4411add9       93                90484.0   \n",
       "4  01674381af7edd264113d4e6ed55ecda      190               182815.0   \n",
       "\n",
       "           total_revenue_$                                           \\\n",
       "  second_28_days_revenue_$ revenue_prime_time revenue_no_prime_time   \n",
       "0               508.093372         364.848300            143.245072   \n",
       "1               122.814027          45.262236             77.551791   \n",
       "2               222.343912          96.207031            126.136881   \n",
       "3              1086.718766         335.530148            751.188617   \n",
       "4              2312.106739         648.273412           1663.833328   \n",
       "\n",
       "  driver_onboard_date total_distance_miles #_active_days %_prime_time  \n",
       "             <lambda>             <lambda>      <lambda>     <lambda>  \n",
       "0          2016-03-29           166.278880            11     0.523810  \n",
       "1          2016-03-29            39.226530             5     0.333333  \n",
       "2          2016-04-05            94.615541             6     0.529412  \n",
       "3          2016-04-23           465.414957            19     0.279570  \n",
       "4          2016-04-29          1015.189105            19     0.247368  "
      ]
     },
     "execution_count": 259,
     "metadata": {},
     "output_type": "execute_result"
    }
   ],
   "source": [
    "# Data from the second 28 day period\n",
    "\n",
    "drivers_value_second_28_period = rides_second_28_period.groupby('driver_id', as_index=False).agg({\n",
    "                                            'ride_id': lambda x: x.count(),\n",
    "                                            'driver_onboard_date': lambda x: pd.to_datetime(x.iloc[0]),\n",
    "                                            'timestamp': lambda x: pd.to_datetime(x.max()),\n",
    "                                            'total_revenue_$': {'second_28_days_revenue_$':lambda x: x.sum(),'revenue_prime_time':lambda x: x[rides_second_28_period['ride_prime_time']>0].sum(),'revenue_no_prime_time':lambda x: x[rides_second_28_period['ride_prime_time']==0].sum()},\n",
    "                                            'ride_distance_miles': lambda x: x.sum(),\n",
    "                                            'ride_duration': lambda x: x.sum(),\n",
    "                                            'ride_prime_time': lambda x: x[x>0].count().astype(float)/x.count(),\n",
    "                                            'timestamp': lambda x: x.str.slice(start=0,stop=10).nunique(),\n",
    "                                            #'total_revenue_$': lambda x: x[rides_first_28_period['ride_prime_time']>0].sum()\n",
    "                                            }).rename(columns={\n",
    "                                                                'ride_id': '#_rides',\n",
    "                                                                'timestamp': 'last_date',\n",
    "                                                                'ride_distance_miles': 'total_distance_miles',\n",
    "                                                                'ride_duration':'total_duration_seconds',\n",
    "                                                                #'total_revenue_$':'first_28_days_revenue_$',\n",
    "                                                                'timestamp': '#_active_days',\n",
    "                                                                'ride_prime_time': '%_prime_time',\n",
    "                                                                #'total_revenue_$': ['first_28_days_revenue_$', 'revenue_prime_time','revenue_no_prime_time']\n",
    "                                                })\n",
    "drivers_value_second_28_period.head()"
   ]
  },
  {
   "cell_type": "code",
   "execution_count": 260,
   "metadata": {
    "collapsed": false
   },
   "outputs": [],
   "source": [
    "second_period_drivers_value = drivers_value_second_28_period['total_revenue_$'] \n",
    "second_period_drivers_value['driver_id'] = drivers_value_second_28_period['driver_id']"
   ]
  },
  {
   "cell_type": "code",
   "execution_count": 261,
   "metadata": {
    "collapsed": false
   },
   "outputs": [
    {
     "data": {
      "text/html": [
       "<div>\n",
       "<style>\n",
       "    .dataframe thead tr:only-child th {\n",
       "        text-align: right;\n",
       "    }\n",
       "\n",
       "    .dataframe thead th {\n",
       "        text-align: left;\n",
       "    }\n",
       "\n",
       "    .dataframe tbody tr th {\n",
       "        vertical-align: top;\n",
       "    }\n",
       "</style>\n",
       "<table border=\"1\" class=\"dataframe\">\n",
       "  <thead>\n",
       "    <tr style=\"text-align: right;\">\n",
       "      <th></th>\n",
       "      <th>second_28_days_revenue_$</th>\n",
       "      <th>revenue_prime_time</th>\n",
       "      <th>revenue_no_prime_time</th>\n",
       "      <th>driver_id</th>\n",
       "      <th>Driver_value_if_prime_time_second_period</th>\n",
       "      <th>Driver_value_if_no_prime_time_second_period</th>\n",
       "      <th>Total_Driver_value_second_period</th>\n",
       "    </tr>\n",
       "  </thead>\n",
       "  <tbody>\n",
       "    <tr>\n",
       "      <th>0</th>\n",
       "      <td>508.093372</td>\n",
       "      <td>364.848300</td>\n",
       "      <td>143.245072</td>\n",
       "      <td>002be0ffdc997bd5c50703158b7c2491</td>\n",
       "      <td>63.848452</td>\n",
       "      <td>17.905634</td>\n",
       "      <td>81.754086</td>\n",
       "    </tr>\n",
       "    <tr>\n",
       "      <th>1</th>\n",
       "      <td>122.814027</td>\n",
       "      <td>45.262236</td>\n",
       "      <td>77.551791</td>\n",
       "      <td>007f0389f9c7b03ef97098422f902e62</td>\n",
       "      <td>7.920891</td>\n",
       "      <td>9.693974</td>\n",
       "      <td>17.614865</td>\n",
       "    </tr>\n",
       "    <tr>\n",
       "      <th>2</th>\n",
       "      <td>222.343912</td>\n",
       "      <td>96.207031</td>\n",
       "      <td>126.136881</td>\n",
       "      <td>011e5c5dfc5c2c92501b8b24d47509bc</td>\n",
       "      <td>16.836230</td>\n",
       "      <td>15.767110</td>\n",
       "      <td>32.603341</td>\n",
       "    </tr>\n",
       "    <tr>\n",
       "      <th>3</th>\n",
       "      <td>1086.718766</td>\n",
       "      <td>335.530148</td>\n",
       "      <td>751.188617</td>\n",
       "      <td>0152a2f305e71d26cc964f8d4411add9</td>\n",
       "      <td>58.717776</td>\n",
       "      <td>93.898577</td>\n",
       "      <td>152.616353</td>\n",
       "    </tr>\n",
       "    <tr>\n",
       "      <th>4</th>\n",
       "      <td>2312.106739</td>\n",
       "      <td>648.273412</td>\n",
       "      <td>1663.833328</td>\n",
       "      <td>01674381af7edd264113d4e6ed55ecda</td>\n",
       "      <td>113.447847</td>\n",
       "      <td>207.979166</td>\n",
       "      <td>321.427013</td>\n",
       "    </tr>\n",
       "  </tbody>\n",
       "</table>\n",
       "</div>"
      ],
      "text/plain": [
       "   second_28_days_revenue_$  revenue_prime_time  revenue_no_prime_time  \\\n",
       "0                508.093372          364.848300             143.245072   \n",
       "1                122.814027           45.262236              77.551791   \n",
       "2                222.343912           96.207031             126.136881   \n",
       "3               1086.718766          335.530148             751.188617   \n",
       "4               2312.106739          648.273412            1663.833328   \n",
       "\n",
       "                          driver_id  Driver_value_if_prime_time_second_period  \\\n",
       "0  002be0ffdc997bd5c50703158b7c2491                                 63.848452   \n",
       "1  007f0389f9c7b03ef97098422f902e62                                  7.920891   \n",
       "2  011e5c5dfc5c2c92501b8b24d47509bc                                 16.836230   \n",
       "3  0152a2f305e71d26cc964f8d4411add9                                 58.717776   \n",
       "4  01674381af7edd264113d4e6ed55ecda                                113.447847   \n",
       "\n",
       "   Driver_value_if_no_prime_time_second_period  \\\n",
       "0                                    17.905634   \n",
       "1                                     9.693974   \n",
       "2                                    15.767110   \n",
       "3                                    93.898577   \n",
       "4                                   207.979166   \n",
       "\n",
       "   Total_Driver_value_second_period  \n",
       "0                         81.754086  \n",
       "1                         17.614865  \n",
       "2                         32.603341  \n",
       "3                        152.616353  \n",
       "4                        321.427013  "
      ]
     },
     "execution_count": 261,
     "metadata": {},
     "output_type": "execute_result"
    }
   ],
   "source": [
    "# Lyft commision on each ride is 25%\n",
    "# If prime time, the value of a driver should increase -> 70% of 25%\n",
    "# If no prime time, the value of a driver should increase -> 50% of 25%\n",
    "\n",
    "second_period_drivers_value['Driver_value_if_prime_time_second_period'] =  0.7 * (second_period_drivers_value['revenue_prime_time']*0.25)\n",
    "second_period_drivers_value['Driver_value_if_no_prime_time_second_period'] =  0.5 * (second_period_drivers_value['revenue_no_prime_time']*0.25)\n",
    "second_period_drivers_value['Total_Driver_value_second_period'] =  second_period_drivers_value['Driver_value_if_no_prime_time_second_period'] + second_period_drivers_value['Driver_value_if_prime_time_second_period']\n",
    "second_period_drivers_value.head()"
   ]
  },
  {
   "cell_type": "code",
   "execution_count": 284,
   "metadata": {
    "collapsed": false
   },
   "outputs": [
    {
     "data": {
      "text/html": [
       "<div>\n",
       "<style>\n",
       "    .dataframe thead tr:only-child th {\n",
       "        text-align: right;\n",
       "    }\n",
       "\n",
       "    .dataframe thead th {\n",
       "        text-align: left;\n",
       "    }\n",
       "\n",
       "    .dataframe tbody tr th {\n",
       "        vertical-align: top;\n",
       "    }\n",
       "</style>\n",
       "<table border=\"1\" class=\"dataframe\">\n",
       "  <thead>\n",
       "    <tr style=\"text-align: right;\">\n",
       "      <th></th>\n",
       "      <th>driver_id</th>\n",
       "      <th>Total_Driver_value_first_period</th>\n",
       "      <th>Total_Driver_value_second_period</th>\n",
       "    </tr>\n",
       "  </thead>\n",
       "  <tbody>\n",
       "    <tr>\n",
       "      <th>0</th>\n",
       "      <td>002be0ffdc997bd5c50703158b7c2491</td>\n",
       "      <td>159.979444</td>\n",
       "      <td>81.754086</td>\n",
       "    </tr>\n",
       "    <tr>\n",
       "      <th>1</th>\n",
       "      <td>007f0389f9c7b03ef97098422f902e62</td>\n",
       "      <td>10.381103</td>\n",
       "      <td>17.614865</td>\n",
       "    </tr>\n",
       "    <tr>\n",
       "      <th>2</th>\n",
       "      <td>011e5c5dfc5c2c92501b8b24d47509bc</td>\n",
       "      <td>21.479794</td>\n",
       "      <td>32.603341</td>\n",
       "    </tr>\n",
       "    <tr>\n",
       "      <th>3</th>\n",
       "      <td>0152a2f305e71d26cc964f8d4411add9</td>\n",
       "      <td>86.499899</td>\n",
       "      <td>152.616353</td>\n",
       "    </tr>\n",
       "    <tr>\n",
       "      <th>4</th>\n",
       "      <td>01674381af7edd264113d4e6ed55ecda</td>\n",
       "      <td>283.239602</td>\n",
       "      <td>321.427013</td>\n",
       "    </tr>\n",
       "  </tbody>\n",
       "</table>\n",
       "</div>"
      ],
      "text/plain": [
       "                          driver_id  Total_Driver_value_first_period  \\\n",
       "0  002be0ffdc997bd5c50703158b7c2491                       159.979444   \n",
       "1  007f0389f9c7b03ef97098422f902e62                        10.381103   \n",
       "2  011e5c5dfc5c2c92501b8b24d47509bc                        21.479794   \n",
       "3  0152a2f305e71d26cc964f8d4411add9                        86.499899   \n",
       "4  01674381af7edd264113d4e6ed55ecda                       283.239602   \n",
       "\n",
       "   Total_Driver_value_second_period  \n",
       "0                         81.754086  \n",
       "1                         17.614865  \n",
       "2                         32.603341  \n",
       "3                        152.616353  \n",
       "4                        321.427013  "
      ]
     },
     "execution_count": 284,
     "metadata": {},
     "output_type": "execute_result"
    }
   ],
   "source": [
    "# There are drivers who didn't complete any rides during the second 28 days period\n",
    "\n",
    "total_value_per_driver= pd.merge(first_period_drivers_value.iloc[:,[3,6]],second_period_drivers_value.iloc[:,[3,6]],how='outer',on='driver_id')\n",
    "total_value_per_driver['Total_Driver_value_second_period'].fillna(0,inplace=True)\n",
    "total_value_per_driver.head()"
   ]
  },
  {
   "cell_type": "code",
   "execution_count": 285,
   "metadata": {
    "collapsed": false
   },
   "outputs": [],
   "source": [
    "total_value_per_driver['Average_value']=(total_value_per_driver['Total_Driver_value_first_period']+total_value_per_driver['Total_Driver_value_second_period'])/2"
   ]
  },
  {
   "cell_type": "code",
   "execution_count": 286,
   "metadata": {
    "collapsed": false
   },
   "outputs": [
    {
     "data": {
      "text/html": [
       "<div>\n",
       "<style>\n",
       "    .dataframe thead tr:only-child th {\n",
       "        text-align: right;\n",
       "    }\n",
       "\n",
       "    .dataframe thead th {\n",
       "        text-align: left;\n",
       "    }\n",
       "\n",
       "    .dataframe tbody tr th {\n",
       "        vertical-align: top;\n",
       "    }\n",
       "</style>\n",
       "<table border=\"1\" class=\"dataframe\">\n",
       "  <thead>\n",
       "    <tr style=\"text-align: right;\">\n",
       "      <th></th>\n",
       "      <th>driver_id</th>\n",
       "      <th>Total_Driver_value_first_period</th>\n",
       "      <th>Total_Driver_value_second_period</th>\n",
       "      <th>Average_value</th>\n",
       "    </tr>\n",
       "  </thead>\n",
       "  <tbody>\n",
       "    <tr>\n",
       "      <th>0</th>\n",
       "      <td>002be0ffdc997bd5c50703158b7c2491</td>\n",
       "      <td>159.979444</td>\n",
       "      <td>81.754086</td>\n",
       "      <td>120.866765</td>\n",
       "    </tr>\n",
       "    <tr>\n",
       "      <th>1</th>\n",
       "      <td>007f0389f9c7b03ef97098422f902e62</td>\n",
       "      <td>10.381103</td>\n",
       "      <td>17.614865</td>\n",
       "      <td>13.997984</td>\n",
       "    </tr>\n",
       "    <tr>\n",
       "      <th>2</th>\n",
       "      <td>011e5c5dfc5c2c92501b8b24d47509bc</td>\n",
       "      <td>21.479794</td>\n",
       "      <td>32.603341</td>\n",
       "      <td>27.041567</td>\n",
       "    </tr>\n",
       "    <tr>\n",
       "      <th>3</th>\n",
       "      <td>0152a2f305e71d26cc964f8d4411add9</td>\n",
       "      <td>86.499899</td>\n",
       "      <td>152.616353</td>\n",
       "      <td>119.558126</td>\n",
       "    </tr>\n",
       "    <tr>\n",
       "      <th>4</th>\n",
       "      <td>01674381af7edd264113d4e6ed55ecda</td>\n",
       "      <td>283.239602</td>\n",
       "      <td>321.427013</td>\n",
       "      <td>302.333307</td>\n",
       "    </tr>\n",
       "  </tbody>\n",
       "</table>\n",
       "</div>"
      ],
      "text/plain": [
       "                          driver_id  Total_Driver_value_first_period  \\\n",
       "0  002be0ffdc997bd5c50703158b7c2491                       159.979444   \n",
       "1  007f0389f9c7b03ef97098422f902e62                        10.381103   \n",
       "2  011e5c5dfc5c2c92501b8b24d47509bc                        21.479794   \n",
       "3  0152a2f305e71d26cc964f8d4411add9                        86.499899   \n",
       "4  01674381af7edd264113d4e6ed55ecda                       283.239602   \n",
       "\n",
       "   Total_Driver_value_second_period  Average_value  \n",
       "0                         81.754086     120.866765  \n",
       "1                         17.614865      13.997984  \n",
       "2                         32.603341      27.041567  \n",
       "3                        152.616353     119.558126  \n",
       "4                        321.427013     302.333307  "
      ]
     },
     "execution_count": 286,
     "metadata": {},
     "output_type": "execute_result"
    }
   ],
   "source": [
    "total_value_per_driver.head()"
   ]
  },
  {
   "cell_type": "code",
   "execution_count": 288,
   "metadata": {
    "collapsed": false
   },
   "outputs": [
    {
     "data": {
      "text/plain": [
       "count    646.000000\n",
       "mean     142.034066\n",
       "std      115.965311\n",
       "min        0.570955\n",
       "25%       33.979616\n",
       "50%      124.404824\n",
       "75%      221.003609\n",
       "max      695.869646\n",
       "Name: Average_value, dtype: float64"
      ]
     },
     "execution_count": 288,
     "metadata": {},
     "output_type": "execute_result"
    }
   ],
   "source": [
    "total_value_per_driver['Average_value'].describe()"
   ]
  },
  {
   "cell_type": "code",
   "execution_count": 292,
   "metadata": {
    "collapsed": false
   },
   "outputs": [
    {
     "data": {
      "image/png": "[encoded data removed]",
      "text/plain": [
       "<matplotlib.figure.Figure at 0x11b372fd0>"
      ]
     },
     "metadata": {},
     "output_type": "display_data"
    }
   ],
   "source": [
    "#ndrivers = len(drivers['driver_id'])\n",
    "total_value_per_driver.hist(column='Average_value', bins=36, figsize=(20,8))\n",
    "plt.xlabel(\"Average value per 28 days period\")\n",
    "plt.ylabel(\"Number of drivers\")\n",
    "plt.title(\"The average drivervalue per 28 days period\")\n",
    "plt.savefig('Average driver value per 28 days perdiod.png')\n",
    "plt.show()"
   ]
  },
  {
   "cell_type": "code",
   "execution_count": 265,
   "metadata": {
    "collapsed": true
   },
   "outputs": [],
   "source": [
    "total_value_per_driver.to_pickle('/Users/Hedi/Documents/total_value_per_driver.pickle')"
   ]
  },
  {
   "cell_type": "markdown",
   "metadata": {},
   "source": [
    "# -----------------------------------------------------------------------"
   ]
  }
 ],
 "metadata": {
  "kernelspec": {
   "display_name": "Python 2",
   "language": "python",
   "name": "python2"
  },
  "language_info": {
   "codemirror_mode": {
    "name": "ipython",
    "version": 2
   },
   "file_extension": ".py",
   "mimetype": "text/x-python",
   "name": "python",
   "nbconvert_exporter": "python",
   "pygments_lexer": "ipython2",
   "version": "2.7.13"
  }
 },
 "nbformat": 4,
 "nbformat_minor": 2
}
